{
 "cells": [
  {
   "cell_type": "code",
   "execution_count": 1,
   "metadata": {},
   "outputs": [
    {
     "name": "stderr",
     "output_type": "stream",
     "text": [
      "/usr/local/Cellar/python3/3.6.4_2/Frameworks/Python.framework/Versions/3.6/lib/python3.6/importlib/_bootstrap.py:219: RuntimeWarning: compiletime version 3.5 of module 'tensorflow.python.framework.fast_tensor_util' does not match runtime version 3.6\n",
      "  return f(*args, **kwds)\n"
     ]
    }
   ],
   "source": [
    "from tensorflow.examples.tutorials.mnist import input_data\n",
    "from sklearn import tree\n",
    "from sklearn import linear_model\n",
    "from sklearn.metrics import accuracy_score\n",
    "import numpy as np\n",
    "from scipy.spatial.distance import euclidean\n",
    "import random, math\n",
    "import matplotlib.pyplot as plt"
   ]
  },
  {
   "cell_type": "code",
   "execution_count": 2,
   "metadata": {},
   "outputs": [],
   "source": [
    "rectangles = []"
   ]
  },
  {
   "cell_type": "code",
   "execution_count": 3,
   "metadata": {},
   "outputs": [
    {
     "name": "stdout",
     "output_type": "stream",
     "text": [
      "Extracting MNIST_data/train-images-idx3-ubyte.gz\n",
      "Extracting MNIST_data/train-labels-idx1-ubyte.gz\n",
      "Extracting MNIST_data/t10k-images-idx3-ubyte.gz\n",
      "Extracting MNIST_data/t10k-labels-idx1-ubyte.gz\n"
     ]
    }
   ],
   "source": [
    "mnist = input_data.read_data_sets(\"MNIST_data/\")\n",
    "\n",
    "training_images, test_images = mnist.train.images, mnist.test.images\n",
    "training_labels, test_labels = mnist.train.labels, mnist.test.labels\n",
    "\n",
    "images = np.array(list(training_images) + list(test_images))\n",
    "labels = np.array(list(training_labels) + list(test_labels))"
   ]
  },
  {
   "cell_type": "code",
   "execution_count": 58,
   "metadata": {},
   "outputs": [
    {
     "data": {
      "text/plain": [
       "(65000, 784)"
      ]
     },
     "execution_count": 58,
     "metadata": {},
     "output_type": "execute_result"
    }
   ],
   "source": [
    "images.shape"
   ]
  },
  {
   "cell_type": "code",
   "execution_count": 4,
   "metadata": {},
   "outputs": [],
   "source": [
    "def distance_between_two_points(point1, point2):\n",
    "    return math.sqrt((point1[0] - point2[0]) ** 2 + (point1[1] - point2[1]) ** 2)"
   ]
  },
  {
   "cell_type": "code",
   "execution_count": 5,
   "metadata": {},
   "outputs": [],
   "source": [
    "def area(point1, point2):\n",
    "    point3 = (point2[0], point1[1])\n",
    "    return distance_between_two_points(point1, point3) * distance_between_two_points(point2, point3)"
   ]
  },
  {
   "cell_type": "code",
   "execution_count": 6,
   "metadata": {
    "scrolled": true
   },
   "outputs": [
    {
     "name": "stdout",
     "output_type": "stream",
     "text": [
      "[[(22, 1), (9, 13)], [(27, 0), (21, 27)], [(0, 26), (13, 13)], [(21, 3), (7, 13)], [(7, 21), (15, 3)], [(22, 21), (8, 11)], [(24, 22), (9, 13)], [(15, 16), (4, 3)], [(8, 12), (26, 4)], [(11, 24), (19, 3)], [(19, 0), (0, 8)], [(13, 24), (22, 8)], [(12, 2), (1, 16)], [(27, 21), (13, 11)], [(14, 2), (23, 19)], [(13, 2), (2, 16)], [(25, 13), (1, 6)], [(10, 2), (26, 12)], [(19, 12), (0, 4)], [(1, 14), (12, 27)], [(0, 16), (9, 0)], [(22, 9), (2, 1)], [(22, 8), (8, 19)], [(0, 19), (19, 12)], [(10, 16), (24, 26)], [(21, 7), (2, 14)], [(22, 19), (10, 7)], [(12, 14), (2, 0)], [(25, 1), (17, 19)], [(14, 9), (26, 22)], [(4, 17), (23, 10)], [(27, 1), (19, 18)], [(21, 18), (2, 25)], [(9, 25), (25, 16)], [(15, 17), (5, 3)], [(24, 22), (6, 14)], [(2, 8), (19, 16)], [(26, 1), (0, 7)], [(1, 15), (21, 8)], [(10, 21), (19, 4)], [(14, 3), (24, 17)], [(23, 2), (3, 9)], [(25, 3), (14, 17)], [(24, 22), (14, 8)], [(10, 23), (0, 7)], [(23, 22), (1, 15)], [(2, 15), (22, 8)], [(0, 22), (7, 0)], [(22, 17), (11, 3)], [(18, 22), (26, 2)], [(24, 24), (9, 15)], [(15, 22), (8, 3)], [(27, 3), (19, 20)], [(6, 2), (19, 14)], [(6, 9), (21, 20)], [(20, 0), (5, 9)], [(9, 27), (16, 5)], [(2, 6), (9, 27)], [(25, 9), (9, 0)], [(26, 25), (18, 5)], [(2, 9), (24, 3)], [(23, 0), (15, 20)], [(26, 23), (8, 15)], [(20, 24), (5, 13)], [(27, 24), (12, 14)], [(7, 27), (27, 20)], [(25, 24), (18, 2)], [(6, 27), (21, 18)], [(26, 2), (19, 23)], [(5, 20), (20, 11)], [(22, 27), (14, 7)], [(7, 1), (25, 9)], [(16, 27), (27, 13)], [(24, 2), (7, 11)], [(7, 26), (13, 0)], [(22, 7), (3, 14)], [(4, 11), (26, 17)], [(14, 19), (0, 7)], [(12, 24), (25, 11)], [(2, 1), (12, 17)], [(17, 15), (26, 0)], [(7, 5), (16, 23)], [(1, 3), (9, 23)], [(3, 13), (27, 19)], [(18, 8), (6, 19)], [(2, 3), (12, 18)], [(3, 3), (17, 13)], [(27, 16), (12, 26)], [(15, 4), (26, 18)], [(4, 22), (11, 0)], [(24, 11), (15, 26)], [(1, 20), (26, 26)], [(5, 27), (18, 14)], [(21, 1), (27, 26)], [(26, 20), (18, 1)], [(16, 23), (24, 5)], [(2, 19), (14, 7)], [(2, 1), (15, 12)], [(2, 11), (16, 23)], [(3, 11), (15, 22)]]\n",
      "100\n"
     ]
    }
   ],
   "source": [
    "while (len(rectangles) < 100):\n",
    "    rectangle = []\n",
    "    rectangle.append((random.randint(0,27), random.randint(0,27)))\n",
    "    rectangle.append((random.randint(0,27), random.randint(0,27)))\n",
    "    if(area(rectangle[0], rectangle[1]) > 130 and area(rectangle[0], rectangle[1]) < 170):\n",
    "        rectangles.append(rectangle)\n",
    "        \n",
    "print(rectangles)\n",
    "print(len(rectangles))"
   ]
  },
  {
   "cell_type": "code",
   "execution_count": 7,
   "metadata": {},
   "outputs": [],
   "source": [
    "test_image = np.array(images[2]).reshape(28,28)"
   ]
  },
  {
   "cell_type": "code",
   "execution_count": 8,
   "metadata": {},
   "outputs": [
    {
     "name": "stdout",
     "output_type": "stream",
     "text": [
      "[[0.         0.         0.         0.         0.         0.\n",
      "  0.         0.         0.         0.         0.         0.\n",
      "  0.         0.         0.         0.         0.         0.\n",
      "  0.         0.         0.         0.         0.         0.\n",
      "  0.         0.         0.         0.        ]\n",
      " [0.         0.         0.         0.         0.         0.\n",
      "  0.         0.         0.         0.         0.         0.\n",
      "  0.         0.         0.         0.         0.         0.\n",
      "  0.         0.         0.         0.         0.         0.\n",
      "  0.         0.         0.         0.        ]\n",
      " [0.         0.         0.         0.         0.         0.\n",
      "  0.         0.         0.         0.         0.         0.\n",
      "  0.         0.         0.         0.         0.         0.\n",
      "  0.         0.         0.         0.         0.         0.\n",
      "  0.         0.         0.         0.        ]\n",
      " [0.         0.         0.         0.         0.         0.\n",
      "  0.         0.         0.         0.         0.         0.\n",
      "  0.         0.         0.         0.         0.         0.\n",
      "  0.         0.         0.         0.         0.         0.\n",
      "  0.         0.         0.         0.        ]\n",
      " [0.         0.         0.         0.         0.         0.\n",
      "  0.         0.         0.         0.         0.         0.\n",
      "  0.         0.         0.         0.         0.         0.\n",
      "  0.         0.         0.         0.         0.         0.\n",
      "  0.         0.         0.         0.        ]\n",
      " [0.         0.         0.         0.         0.         0.\n",
      "  0.         0.         0.         0.         0.         0.\n",
      "  0.         0.         0.         0.         0.         0.\n",
      "  0.         0.         0.         0.         0.         0.\n",
      "  0.         0.         0.         0.        ]\n",
      " [0.         0.         0.         0.         0.         0.\n",
      "  0.         0.         0.         0.         0.02352941 0.76470596\n",
      "  0.9960785  1.         0.93725497 0.1137255  0.         0.\n",
      "  0.         0.         0.         0.         0.         0.\n",
      "  0.         0.         0.         0.        ]\n",
      " [0.         0.         0.         0.         0.         0.\n",
      "  0.         0.         0.         0.02352941 0.6392157  0.9960785\n",
      "  0.9960785  0.6862745  0.21568629 0.01176471 0.         0.\n",
      "  0.         0.         0.09019608 0.         0.         0.\n",
      "  0.         0.         0.         0.        ]\n",
      " [0.         0.         0.         0.         0.         0.\n",
      "  0.         0.         0.         0.47450984 0.9960785  0.9960785\n",
      "  0.5803922  0.03137255 0.         0.         0.         0.\n",
      "  0.         0.54901963 0.9294118  0.43921572 0.         0.\n",
      "  0.         0.         0.         0.        ]\n",
      " [0.         0.         0.         0.         0.         0.\n",
      "  0.         0.         0.16862746 0.9607844  0.9960785  0.9490197\n",
      "  0.01568628 0.         0.         0.         0.         0.\n",
      "  0.20784315 0.92549026 0.9960785  0.43921572 0.         0.\n",
      "  0.         0.         0.         0.        ]\n",
      " [0.         0.         0.         0.         0.         0.\n",
      "  0.         0.         0.6431373  0.9960785  0.9803922  0.2509804\n",
      "  0.         0.         0.         0.         0.         0.\n",
      "  0.6627451  0.9960785  0.97647065 0.1254902  0.         0.\n",
      "  0.         0.         0.         0.        ]\n",
      " [0.         0.         0.         0.         0.         0.\n",
      "  0.         0.         0.83921576 0.9960785  0.69803923 0.\n",
      "  0.         0.01176471 0.03529412 0.03529412 0.03529412 0.17254902\n",
      "  0.909804   0.9960785  0.64705884 0.         0.         0.\n",
      "  0.         0.         0.         0.        ]\n",
      " [0.         0.         0.         0.         0.         0.\n",
      "  0.         0.         0.83921576 0.9960785  0.7254902  0.\n",
      "  0.21176472 0.7294118  0.9960785  0.9960785  0.9960785  0.9960785\n",
      "  0.9960785  0.9058824  0.16862746 0.         0.         0.\n",
      "  0.         0.         0.         0.        ]\n",
      " [0.         0.         0.         0.         0.         0.\n",
      "  0.         0.         0.37647063 0.9960785  0.9803922  0.74509805\n",
      "  0.98823535 0.9960785  0.9960785  0.9960785  0.9960785  0.9960785\n",
      "  0.9960785  0.50980395 0.         0.         0.         0.\n",
      "  0.         0.         0.         0.        ]\n",
      " [0.         0.         0.         0.         0.         0.\n",
      "  0.         0.         0.49411768 0.9960785  0.9960785  0.9960785\n",
      "  0.9960785  0.7803922  0.46274513 0.5686275  0.9960785  0.9960785\n",
      "  0.9960785  0.30588236 0.         0.         0.         0.\n",
      "  0.         0.         0.         0.        ]\n",
      " [0.         0.         0.         0.         0.         0.\n",
      "  0.         0.         0.10980393 0.47058827 0.47058827 0.47058827\n",
      "  0.1254902  0.01176471 0.         0.47450984 0.9960785  0.9960785\n",
      "  0.76470596 0.01568628 0.         0.         0.         0.\n",
      "  0.         0.         0.         0.        ]\n",
      " [0.         0.         0.         0.         0.         0.\n",
      "  0.         0.         0.         0.         0.         0.\n",
      "  0.         0.         0.         0.43137258 0.9960785  0.9960785\n",
      "  0.33333334 0.         0.         0.         0.         0.\n",
      "  0.         0.         0.         0.        ]\n",
      " [0.         0.         0.         0.         0.         0.\n",
      "  0.         0.         0.         0.         0.         0.\n",
      "  0.         0.         0.         0.41960788 0.9960785  0.98823535\n",
      "  0.19215688 0.         0.         0.         0.         0.\n",
      "  0.         0.         0.         0.        ]\n",
      " [0.         0.         0.         0.         0.         0.\n",
      "  0.         0.         0.         0.         0.         0.\n",
      "  0.         0.         0.         0.8235295  0.9960785  0.7176471\n",
      "  0.         0.         0.         0.         0.         0.\n",
      "  0.         0.         0.         0.        ]\n",
      " [0.         0.         0.         0.         0.         0.\n",
      "  0.         0.         0.         0.         0.         0.\n",
      "  0.         0.         0.05882353 0.87843144 0.9960785  0.2784314\n",
      "  0.         0.         0.         0.         0.         0.\n",
      "  0.         0.         0.         0.        ]\n",
      " [0.         0.         0.         0.         0.         0.\n",
      "  0.         0.         0.         0.         0.         0.\n",
      "  0.         0.         0.27058825 0.9960785  0.97647065 0.20784315\n",
      "  0.         0.         0.         0.         0.         0.\n",
      "  0.         0.         0.         0.        ]\n",
      " [0.         0.         0.         0.         0.         0.\n",
      "  0.         0.         0.         0.         0.         0.\n",
      "  0.         0.         0.8470589  0.9960785  0.92549026 0.\n",
      "  0.         0.         0.         0.         0.         0.\n",
      "  0.         0.         0.         0.        ]\n",
      " [0.         0.         0.         0.         0.         0.\n",
      "  0.         0.         0.         0.         0.         0.\n",
      "  0.         0.         0.8745099  0.9960785  0.74509805 0.\n",
      "  0.         0.         0.         0.         0.         0.\n",
      "  0.         0.         0.         0.        ]\n",
      " [0.         0.         0.         0.         0.         0.\n",
      "  0.         0.         0.         0.         0.         0.\n",
      "  0.         0.         0.8745099  0.9960785  0.73333335 0.\n",
      "  0.         0.         0.         0.         0.         0.\n",
      "  0.         0.         0.         0.        ]\n",
      " [0.         0.         0.         0.         0.         0.\n",
      "  0.         0.         0.         0.         0.         0.\n",
      "  0.         0.         0.8745099  0.9960785  0.97647065 0.49411768\n",
      "  0.         0.         0.         0.         0.         0.\n",
      "  0.         0.         0.         0.        ]\n",
      " [0.         0.         0.         0.         0.         0.\n",
      "  0.         0.         0.         0.         0.         0.\n",
      "  0.         0.         0.44705886 0.9333334  0.9960785  0.48627454\n",
      "  0.         0.         0.         0.         0.         0.\n",
      "  0.         0.         0.         0.        ]\n",
      " [0.         0.         0.         0.         0.         0.\n",
      "  0.         0.         0.         0.         0.         0.\n",
      "  0.         0.         0.         0.         0.         0.\n",
      "  0.         0.         0.         0.         0.         0.\n",
      "  0.         0.         0.         0.        ]\n",
      " [0.         0.         0.         0.         0.         0.\n",
      "  0.         0.         0.         0.         0.         0.\n",
      "  0.         0.         0.         0.         0.         0.\n",
      "  0.         0.         0.         0.         0.         0.\n",
      "  0.         0.         0.         0.        ]]\n"
     ]
    }
   ],
   "source": [
    "print(test_image)"
   ]
  },
  {
   "cell_type": "code",
   "execution_count": 9,
   "metadata": {},
   "outputs": [
    {
     "data": {
      "image/png": "[encoded data removed]",
      "text/plain": [
       "<matplotlib.figure.Figure at 0x11b7165c0>"
      ]
     },
     "metadata": {},
     "output_type": "display_data"
    }
   ],
   "source": [
    "plt.gray()\n",
    "plt.imshow(test_image)\n",
    "plt.show()"
   ]
  },
  {
   "cell_type": "code",
   "execution_count": 10,
   "metadata": {},
   "outputs": [
    {
     "data": {
      "text/plain": [
       "4"
      ]
     },
     "execution_count": 10,
     "metadata": {},
     "output_type": "execute_result"
    }
   ],
   "source": [
    "labels[2]"
   ]
  },
  {
   "cell_type": "code",
   "execution_count": 54,
   "metadata": {},
   "outputs": [],
   "source": [
    "def black_left_right(point1, point4, image):\n",
    "    point2 = (point1[0], point4[1])\n",
    "    point3 = (point4[0], point1[1])\n",
    "    mid1 = (int((point1[0] + point3[0])/2), int((point1[1] + point3[1])/2))\n",
    "    mid2 = (int((point2[0] + point4[0])/2), int((point2[1] + point4[1])/2))\n",
    "    return abs(black(point1, mid1, point2, mid2, image) - black(mid1, point3, mid2, point4, image))"
   ]
  },
  {
   "cell_type": "code",
   "execution_count": 62,
   "metadata": {},
   "outputs": [],
   "source": [
    "def black_top_bottom(point1, point4, image):\n",
    "    point2 = (point1[0], point4[1])\n",
    "    point3 = (point4[0], point1[1])\n",
    "    mid1 = (int((point1[0] + point2[0])/2), int((point1[1] + point2[1])/2))\n",
    "    mid2 = (int((point3[0] + point4[0])/2), int((point3[1] + point4[1])/2))\n",
    "    return abs(black(point1, mid1, point3, mid2, image) - black(mid1, point2, mid2, point4, image))"
   ]
  },
  {
   "cell_type": "code",
   "execution_count": 55,
   "metadata": {},
   "outputs": [],
   "source": [
    "def black(point1, point3, point2, point4, image):\n",
    "    total_black = 0\n",
    "    for i in range(point1[0], point3[0]):\n",
    "        for j in range(point2[1], point1[1]):\n",
    "            if image[i][j] > 0.2:\n",
    "                total_black += 1\n",
    "    return total_black"
   ]
  },
  {
   "cell_type": "code",
   "execution_count": 66,
   "metadata": {},
   "outputs": [
    {
     "name": "stdout",
     "output_type": "stream",
     "text": [
      "(65000, 200)\n"
     ]
    }
   ],
   "source": [
    "reduced_images = []\n",
    "for i in range(65000):\n",
    "    test_image = np.array(images[i]).reshape(28,28)\n",
    "    temp_image = []\n",
    "    for rectangle in rectangles:\n",
    "        temp_image.append(black_left_right(rectangle[0], rectangle[1], test_image))\n",
    "    for rectangle in rectangles:\n",
    "        temp_image.append(black_top_bottom(rectangle[0], rectangle[1], test_image))\n",
    "    reduced_images.append(temp_image)\n",
    "reduced_images = np.array(reduced_images)\n",
    "print(reduced_images.shape)"
   ]
  },
  {
   "cell_type": "code",
   "execution_count": 68,
   "metadata": {},
   "outputs": [
    {
     "name": "stdout",
     "output_type": "stream",
     "text": [
      "Accuracy of predictions:  80.55 %\n"
     ]
    }
   ],
   "source": [
    "classifier = tree.DecisionTreeClassifier()\n",
    "classifier = classifier.fit(reduced_images[:55000], labels[:55000])\n",
    "predicted_labels = classifier.predict(reduced_images[55000:])\n",
    "score = accuracy_score(test_labels,predicted_labels)\n",
    "print(\"Accuracy of predictions: \" ,score * 100, \"%\")"
   ]
  }
 ],
 "metadata": {
  "kernelspec": {
   "display_name": "Python 3",
   "language": "python",
   "name": "python3"
  },
  "language_info": {
   "codemirror_mode": {
    "name": "ipython",
    "version": 3
   },
   "file_extension": ".py",
   "mimetype": "text/x-python",
   "name": "python",
   "nbconvert_exporter": "python",
   "pygments_lexer": "ipython3",
   "version": "3.6.4"
  }
 },
 "nbformat": 4,
 "nbformat_minor": 2
}
