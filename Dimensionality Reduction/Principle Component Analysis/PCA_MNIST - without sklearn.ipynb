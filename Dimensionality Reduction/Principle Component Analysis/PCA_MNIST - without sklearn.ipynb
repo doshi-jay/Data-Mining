{
 "cells": [
  {
   "cell_type": "code",
   "execution_count": 7,
   "metadata": {},
   "outputs": [
    {
     "name": "stdout",
     "output_type": "stream",
     "text": [
      "Reading MNIST dataset\n",
      "Extracting minst_data/train-images-idx3-ubyte.gz\n",
      "Extracting minst_data/train-labels-idx1-ubyte.gz\n",
      "Extracting minst_data/t10k-images-idx3-ubyte.gz\n",
      "Extracting minst_data/t10k-labels-idx1-ubyte.gz\n",
      "Done loading data\n"
     ]
    }
   ],
   "source": [
    "import numpy as np\n",
    "import matplotlib.pyplot as plt\n",
    "from itertools import product\n",
    "from sklearn.decomposition import RandomizedPCA\n",
    "from sklearn.datasets import fetch_mldata\n",
    "from sklearn.utils import shuffle\n",
    "from tensorflow.examples.tutorials.mnist import input_data\n",
    "from sklearn import tree\n",
    "import numpy\n",
    "\n",
    "print(\"Reading MNIST dataset\")\n",
    "mnist = input_data.read_data_sets('minst_data/')\n",
    "\n",
    "train_images = mnist.train.images\n",
    "train_labels = mnist.train.labels\n",
    "test_images = mnist.test.images\n",
    "test_labels = mnist.test.labels\n",
    "images = list(mnist.train.images) + list(mnist.test.images)\n",
    "labels = list(mnist.train.labels) + list(mnist.test.labels)\n",
    "    \n",
    "print(\"Done loading data\")"
   ]
  },
  {
   "cell_type": "code",
   "execution_count": 8,
   "metadata": {
    "collapsed": true
   },
   "outputs": [],
   "source": [
    "def PCA(X, k):\n",
    "    (n, m) = X.shape\n",
    "    Sigma = 1.0 / m * np.dot(X ,np.transpose(X))\n",
    "    U, s, V = np.linalg.svd(Sigma, full_matrices = True)\n",
    "    U_reduced = U[:, : k]\n",
    "    Z = np.dot(np.transpose(U_reduced) ,X)\n",
    "    return np.transpose(Z), U_reduced"
   ]
  },
  {
   "cell_type": "code",
   "execution_count": 9,
   "metadata": {},
   "outputs": [
    {
     "name": "stdout",
     "output_type": "stream",
     "text": [
      "Calculating for 5 dimensions\n",
      "Calculating for 20 dimensions\n"
     ]
    }
   ],
   "source": [
    "images = np.transpose(np.array(images))\n",
    "print(\"Calculating for 5 dimensions\")\n",
    "z5,u5 = PCA(images,5)\n",
    "print(\"Calculating for 20 dimensions\")\n",
    "z20,u20 = PCA(images,20)"
   ]
  },
  {
   "cell_type": "code",
   "execution_count": 10,
   "metadata": {
    "collapsed": true
   },
   "outputs": [],
   "source": [
    "clf5 = tree.DecisionTreeClassifier()\n",
    "clf5 = clf5.fit(z5[:len(train_images)], train_labels)\n",
    "\n",
    "clf20 = tree.DecisionTreeClassifier()\n",
    "clf20 = clf20.fit(z20[:len(train_images)], train_labels)"
   ]
  },
  {
   "cell_type": "code",
   "execution_count": 11,
   "metadata": {
    "collapsed": true
   },
   "outputs": [],
   "source": [
    "predicted_labels5 = clf5.predict(z5[len(train_images):])\n",
    "predicted_labels20 = clf20.predict(z20[len(train_images):])"
   ]
  },
  {
   "cell_type": "code",
   "execution_count": 12,
   "metadata": {},
   "outputs": [
    {
     "name": "stdout",
     "output_type": "stream",
     "text": [
      "Accuracy Score for 5 features:  0.6601\n",
      "Accuracy Score for 20 features:  0.8535\n"
     ]
    }
   ],
   "source": [
    "from sklearn.metrics import accuracy_score\n",
    "score5 = accuracy_score(mnist.test.labels, predicted_labels5, normalize=True)\n",
    "score20 = accuracy_score(mnist.test.labels, predicted_labels20, normalize=True)\n",
    "print(\"Accuracy Score for 5 features: \", score5)\n",
    "print(\"Accuracy Score for 20 features: \", score20)"
   ]
  },
  {
   "cell_type": "code",
   "execution_count": null,
   "metadata": {
    "collapsed": true
   },
   "outputs": [],
   "source": []
  }
 ],
 "metadata": {
  "kernelspec": {
   "display_name": "Python 3",
   "language": "python",
   "name": "python3"
  },
  "language_info": {
   "codemirror_mode": {
    "name": "ipython",
    "version": 3
   },
   "file_extension": ".py",
   "mimetype": "text/x-python",
   "name": "python",
   "nbconvert_exporter": "python",
   "pygments_lexer": "ipython3",
   "version": "3.6.3"
  }
 },
 "nbformat": 4,
 "nbformat_minor": 2
}
