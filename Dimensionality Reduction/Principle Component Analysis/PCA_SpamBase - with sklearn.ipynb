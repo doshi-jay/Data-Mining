{
 "cells": [
  {
   "cell_type": "code",
   "execution_count": 115,
   "metadata": {},
   "outputs": [
    {
     "name": "stdout",
     "output_type": "stream",
     "text": [
      "Reading Spambase dataset\n",
      "Done loading data\n"
     ]
    }
   ],
   "source": [
    "import numpy as np\n",
    "import matplotlib.pyplot as plt\n",
    "from itertools import product\n",
    "from sklearn.decomposition import RandomizedPCA\n",
    "from sklearn.decomposition import IncrementalPCA\n",
    "from sklearn.datasets import fetch_mldata\n",
    "from sklearn.utils import shuffle\n",
    "from sklearn import tree\n",
    "import pandas as pd\n",
    "from sklearn.metrics import accuracy_score\n",
    "    \n",
    "print(\"Reading Spambase dataset\")\n",
    "\n",
    "X = []\n",
    "Y = []\n",
    "X_test = []\n",
    "Y_test = []\n",
    "X_train = []\n",
    "Y_train = []\n",
    "def read_data():\n",
    "    data = pd.read_csv('spambase.data', header=None)\n",
    "    data.rename(columns={57:'is_spam'}, inplace=True)\n",
    "    with open(\"spambase.data\") as f:\n",
    "        for i,line in enumerate(f):\n",
    "            line= line.strip()\n",
    "            line = line.split(',')\n",
    "            line2 = [float(i) for i in line]\n",
    "            X.append(line2[:len(line2)-1])\n",
    "            Y.append(line2[len(line2)-1:][0]) \n",
    "\n",
    "print(\"Done loading data\")\n",
    "read_data()"
   ]
  },
  {
   "cell_type": "code",
   "execution_count": 116,
   "metadata": {},
   "outputs": [
    {
     "name": "stdout",
     "output_type": "stream",
     "text": [
      "4140\n",
      "461\n",
      "4140\n",
      "461\n"
     ]
    }
   ],
   "source": [
    "X_test = X[int(0.9*len(X)):]\n",
    "Y_test = Y[int(0.9*len(Y)):]\n",
    "X_train = X[:int(0.9*len(X))]\n",
    "Y_train = Y[:int(0.9*len(Y))]\n",
    "print(len(X_train))\n",
    "print(len(X_test))\n",
    "print(len(Y_train))\n",
    "print(len(Y_test))"
   ]
  },
  {
   "cell_type": "code",
   "execution_count": 117,
   "metadata": {
    "collapsed": true
   },
   "outputs": [],
   "source": [
    "def get_score(labels):\n",
    "    return accuracy_score(Y_test, labels, normalize=True)"
   ]
  },
  {
   "cell_type": "code",
   "execution_count": 118,
   "metadata": {
    "collapsed": true
   },
   "outputs": [],
   "source": [
    "def get_accuracy(n):\n",
    "    print(\"Number of components: \", n)\n",
    "    pca = IncrementalPCA(n_components=n)\n",
    "    X_transformed = pca.fit_transform(X)\n",
    "    X_test = X_transformed[int(0.9*len(X)):]\n",
    "    X_train = X_transformed[:int(0.9*len(X))]\n",
    "    clf = tree.DecisionTreeClassifier()\n",
    "    clf = clf.fit(X_train, Y_train)\n",
    "    predicted_labels = clf.predict(X_test)\n",
    "    return get_score(predicted_labels)"
   ]
  },
  {
   "cell_type": "code",
   "execution_count": 119,
   "metadata": {},
   "outputs": [
    {
     "name": "stdout",
     "output_type": "stream",
     "text": [
      "Number of components:  1\n",
      "Number of components:  2\n",
      "Number of components:  3\n",
      "Number of components:  4\n",
      "Number of components:  5\n",
      "Number of components:  6\n",
      "Number of components:  7\n",
      "Number of components:  8\n",
      "Number of components:  9\n",
      "Number of components:  10\n",
      "Number of components:  11\n",
      "Number of components:  12\n",
      "Number of components:  13\n",
      "Number of components:  14\n",
      "Number of components:  15\n",
      "Number of components:  16\n",
      "Number of components:  17\n",
      "Number of components:  18\n",
      "Number of components:  19\n",
      "Number of components:  20\n",
      "Number of components:  21\n",
      "Number of components:  22\n",
      "Number of components:  23\n",
      "Number of components:  24\n",
      "Number of components:  25\n",
      "Number of components:  26\n",
      "Number of components:  27\n",
      "Number of components:  28\n",
      "Number of components:  29\n",
      "Number of components:  30\n",
      "Number of components:  31\n",
      "Number of components:  32\n",
      "Number of components:  33\n",
      "Number of components:  34\n",
      "Number of components:  35\n",
      "Number of components:  36\n",
      "Number of components:  37\n",
      "Number of components:  38\n",
      "Number of components:  39\n",
      "Number of components:  40\n",
      "Number of components:  41\n",
      "Number of components:  42\n",
      "Number of components:  43\n",
      "Number of components:  44\n",
      "Number of components:  45\n",
      "Number of components:  46\n",
      "Number of components:  47\n",
      "Number of components:  48\n",
      "Number of components:  49\n",
      "Number of components:  50\n",
      "Number of components:  51\n",
      "Number of components:  52\n",
      "Number of components:  53\n",
      "Number of components:  54\n",
      "Number of components:  55\n",
      "Number of components:  56\n",
      "Number of components:  57\n"
     ]
    }
   ],
   "source": [
    "scores = []\n",
    "# read_data()\n",
    "for i in range(1, len(X[0])+1):\n",
    "    scores.append(get_accuracy(i))"
   ]
  },
  {
   "cell_type": "code",
   "execution_count": 120,
   "metadata": {},
   "outputs": [
    {
     "name": "stdout",
     "output_type": "stream",
     "text": [
      "[0.68546637744034711, 0.67678958785249455, 0.68112798264642083, 0.59436008676789587, 0.54229934924078094, 0.53362255965292837, 0.55531453362255967, 0.5683297180043384, 0.55314533622559658, 0.54229934924078094, 0.61171366594360088, 0.64208242950108463, 0.63774403470715835, 0.67895878524945774, 0.72017353579175702, 0.69197396963123647, 0.68763557483731019, 0.68329718004338391, 0.66377440347071581, 0.65075921908893708, 0.65726681127982645, 0.66377440347071581, 0.67678958785249455, 0.69848156182212584, 0.67895878524945774, 0.67245119305856837, 0.67462039045553146, 0.68980477223427328, 0.70932754880694138, 0.66594360086767901, 0.72234273318872022, 0.66160520607375273, 0.66377440347071581, 0.70932754880694138, 0.69631236442516264, 0.67895878524945774, 0.68112798264642083, 0.68980477223427328, 0.68329718004338391, 0.66811279826464209, 0.66811279826464209, 0.67245119305856837, 0.66160520607375273, 0.64859002169197399, 0.66594360086767901, 0.69631236442516264, 0.67678958785249455, 0.70281995661605201, 0.72885032537960959, 0.70715835140997829, 0.68980477223427328, 0.68980477223427328, 0.68329718004338391, 0.71583514099783085, 0.70498915401301521, 0.66811279826464209, 0.68980477223427328]\n"
     ]
    }
   ],
   "source": [
    "print(scores)"
   ]
  },
  {
   "cell_type": "code",
   "execution_count": 121,
   "metadata": {},
   "outputs": [],
   "source": [
    "import matplotlib.pyplot as plt"
   ]
  },
  {
   "cell_type": "code",
   "execution_count": 122,
   "metadata": {},
   "outputs": [
    {
     "data": {
      "image/png": "[encoded data removed]",
      "text/plain": [
       "<matplotlib.figure.Figure at 0x1f4c9abc7b8>"
      ]
     },
     "metadata": {},
     "output_type": "display_data"
    }
   ],
   "source": [
    "plt.plot(scores)\n",
    "plt.ylabel('Accuracy')\n",
    "plt.show()"
   ]
  },
  {
   "cell_type": "code",
   "execution_count": 131,
   "metadata": {},
   "outputs": [
    {
     "data": {
      "text/plain": [
       "49"
      ]
     },
     "execution_count": 131,
     "metadata": {},
     "output_type": "execute_result"
    }
   ],
   "source": [
    "scores.index(max(scores))+1"
   ]
  },
  {
   "cell_type": "code",
   "execution_count": 129,
   "metadata": {},
   "outputs": [
    {
     "name": "stdout",
     "output_type": "stream",
     "text": [
      "0.689804772234\n"
     ]
    }
   ],
   "source": [
    "print(scores[56])"
   ]
  },
  {
   "cell_type": "code",
   "execution_count": null,
   "metadata": {
    "collapsed": true
   },
   "outputs": [],
   "source": []
  }
 ],
 "metadata": {
  "kernelspec": {
   "display_name": "Python 3",
   "language": "python",
   "name": "python3"
  },
  "language_info": {
   "codemirror_mode": {
    "name": "ipython",
    "version": 3
   },
   "file_extension": ".py",
   "mimetype": "text/x-python",
   "name": "python",
   "nbconvert_exporter": "python",
   "pygments_lexer": "ipython3",
   "version": "3.6.3"
  }
 },
 "nbformat": 4,
 "nbformat_minor": 2
}
