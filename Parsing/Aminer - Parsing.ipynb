{
 "cells": [
  {
   "cell_type": "markdown",
   "metadata": {},
   "source": [
    "<b>a. Compute the number of distinct authors, publication venues, publications, and citations/references</b>"
   ]
  },
  {
   "cell_type": "code",
   "execution_count": 1,
   "metadata": {},
   "outputs": [
    {
     "name": "stdout",
     "output_type": "stream",
     "text": [
      "Number of Authors 1478734\n",
      "Number of Venues 255686\n",
      "Number of References 7250326\n",
      "Number of Publications 1976815\n"
     ]
    }
   ],
   "source": [
    "with open(\"Desktop\\AP_train.txt\",'r', newline='', encoding=\"utf8\") as apfile:    \n",
    "    count = 0\n",
    "    author = set()\n",
    "    venues = set()\n",
    "    publications = set()\n",
    "    citations = set()\n",
    "    index = \"\"\n",
    "    for row in apfile:\n",
    "        if row.startswith(\"#@\"):            \n",
    "            for column in row[3:].split(\";\"):\n",
    "                 author.add(column.strip())\n",
    "        elif row.startswith(\"#c\"):\n",
    "            venues.add(row)\n",
    "        elif row.startswith(\"#%\"):\n",
    "            citations.add(index+row)\n",
    "        elif row.startswith(\"#index\"):\n",
    "            index = row[7:]\n",
    "            publications.add(row)\n",
    "    # The total number contain the null author value as well!            \n",
    "    print(\"Number of Authors\" , len(author))\n",
    "    print(\"Number of Venues\" , len(venues))\n",
    "    print(\"Number of References\" , len(citations))\n",
    "    print(\"Number of Publications\" , len(publications))"
   ]
  },
  {
   "cell_type": "markdown",
   "metadata": {},
   "source": [
    "<b>b. Are these numbers likely to be accurate? As an example look up all the publications venue names associated with the conference \\Principles and Practice of Knowledge Discovery in Databases\" what do you notice?</b>"
   ]
  },
  {
   "cell_type": "code",
   "execution_count": 2,
   "metadata": {},
   "outputs": [
    {
     "name": "stdout",
     "output_type": "stream",
     "text": [
      "Venues lists are \n",
      "Knowledge Discovery in Databases: PKDD 2006: 10th European Conference on Principles and Practice of Knowledge Discovery in Databases, Berlin, Germany, September ... (Lecture Notes in Computer Science)\n",
      "\n",
      "PKDD '04 Proceedings of the 8th European Conference on Principles and Practice of Knowledge Discovery in Databases\n",
      "\n",
      "PKDD 2007 Proceedings of the 11th European conference on Principles and Practice of Knowledge Discovery in Databases\n",
      "\n",
      "PKDD'05 Proceedings of the 9th European conference on Principles and Practice of Knowledge Discovery in Databases\n",
      "\n",
      "Knowledge Discovery in Databases: PKDD 2005: 9th European Conference on Principles and Practice of Knowledge Discovery in Databases, Porto, Portugal, October ... / Lecture Notes in Artificial Intelligence)\n",
      "\n"
     ]
    }
   ],
   "source": [
    "venue_set = set()\n",
    "\n",
    "with open(\"Desktop\\AP_train.txt\",'r', newline='', encoding=\"utf8\") as apfile:       \n",
    "    index = \"\"\n",
    "    venue = \"\"\n",
    "    for row in apfile:\n",
    "        if row.startswith(\"#c\") and \"Principles and Practice of Knowledge Discovery in Databases\" in row:\n",
    "            venue_set.add(row[3:])\n",
    "\n",
    "print(\"Venues lists are \")\n",
    "for venue in venue_set:            \n",
    "    print(venue)"
   ]
  },
  {
   "cell_type": "markdown",
   "metadata": {},
   "source": [
    "<b>c. For each author, construct the list of publications. Plot a histogram of the number of publications per author (use a logarithmic scale on the y axis)."
   ]
  },
  {
   "cell_type": "code",
   "execution_count": 3,
   "metadata": {},
   "outputs": [
    {
     "name": "stdout",
     "output_type": "stream",
     "text": [
      "Done creating dictionary {author -> number of publications}\n"
     ]
    }
   ],
   "source": [
    "author_to_publications = {}\n",
    "\n",
    "# Considering each Citation as one\n",
    "with open(\"Desktop\\AP_train.txt\",'r', newline='', encoding=\"utf8\") as apfile:    \n",
    "    for row in apfile:\n",
    "        if row.startswith(\"#@\"):            \n",
    "            for column in row[3:].split(\";\"):\n",
    "                if author_to_publications.get(column.strip()) == None:\n",
    "                    author_to_publications[column.strip()] = 1\n",
    "                else:\n",
    "                    author_to_publications[column.strip()]  += 1\n",
    "                    \n",
    "authors = author_to_publications.keys()\n",
    "\n",
    "publications = list(author_to_publications.values())\n",
    "print(\"Done creating dictionary {author -> number of publications}\")"
   ]
  },
  {
   "cell_type": "code",
   "execution_count": 4,
   "metadata": {},
   "outputs": [
    {
     "data": {
      "image/png": "[encoded data removed]",
      "text/plain": [
       "<matplotlib.figure.Figure at 0x1fd2aec24a8>"
      ]
     },
     "metadata": {},
     "output_type": "display_data"
    }
   ],
   "source": [
    "import matplotlib.pyplot as plt\n",
    "\n",
    "null_index = list(authors).index(\"\")\n",
    "# del authors[null_index]\n",
    "del publications[null_index]\n",
    "\n",
    "plt.xlabel('Authors')\n",
    "plt.ylabel('Publications')\n",
    "plt.title('Histogram of Publications per author')\n",
    "plt.grid(True)\n",
    "\n",
    "plt.hist(publications,bins=50,log=True)\n",
    "plt.show()"
   ]
  },
  {
   "cell_type": "markdown",
   "metadata": {},
   "source": [
    "<b>d. Calculate the mean and standard deviation of the number of publications per author. Also calculate the Q1 (1st quartile14), Q2 (2nd quartile, or median) and Q3 (3rd quartile) values. Compare the median to the mean and explain the dierence between the two values based on the standard deviation and the 1st and 3rd quartiles.</b>"
   ]
  },
  {
   "cell_type": "code",
   "execution_count": 5,
   "metadata": {},
   "outputs": [
    {
     "name": "stdout",
     "output_type": "stream",
     "text": [
      "Mean of publications per author =  3.29178560295\n"
     ]
    }
   ],
   "source": [
    "import numpy as np\n",
    "\n",
    "print(\"Mean of publications per author = \" , np.mean(np.array(publications)))"
   ]
  },
  {
   "cell_type": "code",
   "execution_count": 6,
   "metadata": {},
   "outputs": [
    {
     "name": "stdout",
     "output_type": "stream",
     "text": [
      "First Quartile is as follows :  1.0\n",
      "Third Quartile is as follows :  2.0\n"
     ]
    }
   ],
   "source": [
    "print(\"First Quartile is as follows : \" , np.percentile(np.array(publications), 25))\n",
    "print(\"Third Quartile is as follows : \" , np.percentile(np.array(publications), 75))"
   ]
  },
  {
   "cell_type": "code",
   "execution_count": 7,
   "metadata": {},
   "outputs": [
    {
     "name": "stdout",
     "output_type": "stream",
     "text": [
      "Median of publications per author =  1.0\n"
     ]
    }
   ],
   "source": [
    "print(\"Median of publications per author = \" , np.median(np.array(publications)))"
   ]
  },
  {
   "cell_type": "code",
   "execution_count": 8,
   "metadata": {},
   "outputs": [
    {
     "name": "stdout",
     "output_type": "stream",
     "text": [
      "Standard Deviation of publications per author =  8.87188969104\n"
     ]
    }
   ],
   "source": [
    "print(\"Standard Deviation of publications per author = \" , np.std(np.array(publications)))"
   ]
  },
  {
   "cell_type": "code",
   "execution_count": 9,
   "metadata": {},
   "outputs": [
    {
     "name": "stdout",
     "output_type": "stream",
     "text": [
      "Min in publications per author =  1\n",
      "Max in publications per author =  1071\n"
     ]
    }
   ],
   "source": [
    "print(\"Min in publications per author = \" , np.min(np.array(publications)))\n",
    "print(\"Max in publications per author = \" , np.max(np.array(publications)))"
   ]
  },
  {
   "cell_type": "raw",
   "metadata": {},
   "source": [
    "Explanation:\n",
    "Based on the values of the median and quartile we can infer the following: \n",
    "> The majority of the authors in the dataset have one publication as both the first quartile and the median is 1.\n",
    "> Thus, the difference between the mean and the median is justified, as not many authors to have large number of publications (as depicted from the above histogram)\n",
    "> There are be a very small subset of authors with a huge number of publications and those account to the mean being over 3."
   ]
  },
  {
   "cell_type": "markdown",
   "metadata": {},
   "source": [
    "<b>e. Now plot a histogram of the number of publications per venue, as well as calculate the mean, standard deviation, median, Q1, and Q3 values. What is the venue with the largest number of publications in the dataset?"
   ]
  },
  {
   "cell_type": "code",
   "execution_count": 12,
   "metadata": {
    "collapsed": true
   },
   "outputs": [],
   "source": [
    "venue_to_publications = {}\n",
    "\n",
    "# Considering each occurence as one publication\n",
    "with open(\"Desktop\\AP_train.txt\",'r', newline='', encoding=\"utf8\") as apfile:    \n",
    "    for row in apfile:\n",
    "        if row.startswith(\"#c\"):                        \n",
    "            if venue_to_publications.get(row[3:]) == None:\n",
    "                venue_to_publications[row[3:]] = 1\n",
    "            else:\n",
    "                venue_to_publications[row[3:]]  += 1\n",
    "                    \n",
    "venues = list(venue_to_publications.keys())\n",
    "publications = list(venue_to_publications.values())"
   ]
  },
  {
   "cell_type": "code",
   "execution_count": 15,
   "metadata": {},
   "outputs": [
    {
     "data": {
      "image/png": "[encoded data removed]",
      "text/plain": [
       "<matplotlib.figure.Figure at 0x1fd24588208>"
      ]
     },
     "metadata": {},
     "output_type": "display_data"
    }
   ],
   "source": [
    "plt.xlabel('Venues')\n",
    "plt.ylabel('Publications')\n",
    "plt.title('Histogram of Publications per venue')\n",
    "plt.grid(True)\n",
    "\n",
    "plt.hist(publications,bins = 50, log=True)\n",
    "plt.show()"
   ]
  },
  {
   "cell_type": "code",
   "execution_count": 16,
   "metadata": {},
   "outputs": [
    {
     "name": "stdout",
     "output_type": "stream",
     "text": [
      "Mean of publications per venue =  7.7314166595\n",
      "Median of publications per venue =  1.0\n",
      "First Quartile is as follows :  1.0\n",
      "Third Quartile is as follows :  1.0\n",
      "Standard Deviation of publications per venue  83.3810561036\n",
      "Max number of publications per venue =  11227\n",
      "Standard Deviation of publications per venue =  83.3810561036\n",
      "Max publication at Venue =  IEEE Transactions on Information Theory\n",
      "\n"
     ]
    }
   ],
   "source": [
    "import numpy as np\n",
    "\n",
    "publications = np.array(publications)\n",
    "max_venues = []\n",
    "print(\"Mean of publications per venue = \" , np.mean(publications))\n",
    "print(\"Median of publications per venue = \" , np.median(publications))\n",
    "print(\"First Quartile is as follows : \" , np.percentile(publications, 25))\n",
    "print(\"Third Quartile is as follows : \" , np.percentile(publications, 75))\n",
    "print(\"Standard Deviation of publications per venue \" , np.std(publications))\n",
    "print(\"Max number of publications per venue = \" , np.max(publications))\n",
    "print(\"Standard Deviation of publications per venue = \" , np.std(publications))\n",
    "print(\"Max publication at Venue = \" , venues[list(venue_to_publications.values()).index(max(list(venue_to_publications.values())))])"
   ]
  },
  {
   "cell_type": "markdown",
   "metadata": {
    "collapsed": true
   },
   "source": [
    "<b>f. Plot a histogram of the number of references (number of publications a publication refers to) and citations (number of publications referring to a publication) per publication. What is the publication with the largest number of references? What is the publication with the largest number of citations? Do these make sense?"
   ]
  },
  {
   "cell_type": "code",
   "execution_count": 4,
   "metadata": {},
   "outputs": [
    {
     "name": "stdout",
     "output_type": "stream",
     "text": [
      "Total references 797454\n",
      "Total cites 871089\n"
     ]
    }
   ],
   "source": [
    "ref = {}\n",
    "cite = {}\n",
    "cite_count_venue = {}\n",
    "venue_publicationName = {}\n",
    "\n",
    "with open(\"Desktop/AP_train.txt\",'r', newline='', encoding=\"utf8\") as apfile:    \n",
    "    index = 0\n",
    "    venue = \"\"\n",
    "    for row in apfile:        \n",
    "        if row.startswith(\"#index\"):                        \n",
    "            index = int(row[7:])\n",
    "        elif row.startswith(\"#c\"):                        \n",
    "            venue = row[3:]\n",
    "            if venue_publicationName.get(index) == None:\n",
    "                venue_publicationName[index] = venue\n",
    "        elif row.startswith(\"#%\"):\n",
    "            if ref.get(index) == None:\n",
    "                ref[index] = 1\n",
    "            else:\n",
    "                ref[index]  += 1\n",
    "                \n",
    "            if cite.get(int(row[3:])) == None:\n",
    "                cite[int(row[3:])] = 1\n",
    "            else:\n",
    "                cite[int(row[3:])]  += 1                            \n",
    "            \n",
    "            cite_venue = venue_publicationName.get(int(row[3:]))\n",
    "            if cite_count_venue.get(cite_venue) == None:\n",
    "                cite_count_venue[cite_venue] = 1\n",
    "            else:\n",
    "                cite_count_venue[cite_venue] += 1\n",
    "                    \n",
    "print(\"Total references\", len(ref))\n",
    "print(\"Total cites\", len(cite))"
   ]
  },
  {
   "cell_type": "code",
   "execution_count": 5,
   "metadata": {},
   "outputs": [
    {
     "name": "stdout",
     "output_type": "stream",
     "text": [
      "Publication index with max References =  719353 with value =  772\n",
      "Publication index with max Citations =  408396 with value =  7753\n"
     ]
    }
   ],
   "source": [
    "print(\"Publication index with max References = \" , list(ref.keys())[list(ref.values()).index(max(list(ref.values())))] , \"with value = \",max(list(ref.values())))\n",
    "print(\"Publication index with max Citations = \" , list(cite.keys())[list(cite.values()).index(max(list(cite.values())))] , \"with value = \",max(list(cite.values())))"
   ]
  },
  {
   "cell_type": "code",
   "execution_count": 7,
   "metadata": {},
   "outputs": [
    {
     "data": {
      "image/png": "[encoded data removed]",
      "text/plain": [
       "<matplotlib.figure.Figure at 0x22939c1c208>"
      ]
     },
     "metadata": {},
     "output_type": "display_data"
    },
    {
     "data": {
      "image/png": "[encoded data removed]",
      "text/plain": [
       "<matplotlib.figure.Figure at 0x22959f34ba8>"
      ]
     },
     "metadata": {},
     "output_type": "display_data"
    }
   ],
   "source": [
    "import matplotlib.pyplot as plt\n",
    "plt.title('Histogram of References')\n",
    "plt.grid(True)\n",
    "\n",
    "plt.hist(list(ref.values()),bins=25,log=True)\n",
    "plt.show()\n",
    "\n",
    "\n",
    "plt.title('Histogram of Citations')\n",
    "plt.grid(True)\n",
    "\n",
    "plt.hist(list(cite.values()),bins=25,log=True)\n",
    "plt.show()"
   ]
  },
  {
   "cell_type": "markdown",
   "metadata": {},
   "source": [
    "<b>g. Calculate the so called “impact” factor for each venue. To do so, calculate the total number of citations for the publications in the venue, and then divide this number by the number of publications for the venue. Plot a histogram of the results"
   ]
  },
  {
   "cell_type": "code",
   "execution_count": 13,
   "metadata": {},
   "outputs": [],
   "source": [
    "venue_impact = {}\n",
    "\n",
    "for venue in cite_count_venue.keys():   \n",
    "    venue_impact[venue] = 0    \n",
    "    if venue != 'None' and venue_to_publications.get(venue) != None :\n",
    "        venue_impact[venue] = cite_count_venue[venue]/venue_to_publications[venue]"
   ]
  },
  {
   "cell_type": "code",
   "execution_count": 14,
   "metadata": {},
   "outputs": [
    {
     "data": {
      "image/png": "[encoded data removed]",
      "text/plain": [
       "<matplotlib.figure.Figure at 0x2295e2b0828>"
      ]
     },
     "metadata": {},
     "output_type": "display_data"
    }
   ],
   "source": [
    "import matplotlib.pyplot as plt\n",
    "\n",
    "plt.title('Histogram of Venue Impacts')\n",
    "plt.grid(True)\n",
    "\n",
    "plt.hist(list(venue_impact.values()),bins=50,log=True)\n",
    "plt.show()"
   ]
  },
  {
   "cell_type": "code",
   "execution_count": 15,
   "metadata": {},
   "outputs": [
    {
     "name": "stdout",
     "output_type": "stream",
     "text": [
      "Venue with max impact =  Computers and Intractability: A Guide to the Theory of NP-Completeness\n",
      "\n"
     ]
    }
   ],
   "source": [
    "max_index = list(venue_impact.values()).index(max(list(venue_impact.values())))\n",
    "print(\"Venue with max impact = \" , list(venue_impact.keys())[max_index])"
   ]
  },
  {
   "cell_type": "markdown",
   "metadata": {},
   "source": [
    "<b>h. What is the venue with the highest apparent impact factor? Do you believe this number?"
   ]
  },
  {
   "cell_type": "code",
   "execution_count": 16,
   "metadata": {},
   "outputs": [
    {
     "name": "stdout",
     "output_type": "stream",
     "text": [
      "Venue with max impact =  Computers and Intractability: A Guide to the Theory of NP-Completeness\n",
      "\n"
     ]
    }
   ],
   "source": [
    "max_index = list(venue_impact.values()).index(max(list(venue_impact.values())))\n",
    "print(\"Venue with max impact = \" , list(venue_impact.keys())[max_index])"
   ]
  },
  {
   "cell_type": "markdown",
   "metadata": {},
   "source": [
    "The impact factor is for any publication venue is directly related to the number of citations of all the papers published in the publication v/s the number of papers published at that venue. \n",
    "However, from b, we know that the name of certain venues have been written differently in different data records. \n",
    "Thus, we know that the number might as well be not accurate. \n",
    "Thus the impact factor above seems unbelivable."
   ]
  },
  {
   "cell_type": "markdown",
   "metadata": {},
   "source": [
    "<b>i. Now repeat the calculation from (1-g), but restrict the calculation to venues with at least 10 publications. How does your histogram change? List the citation counts for all publications from the venue with the highest impact factor. How does the impact factor (mean number of citations) compare to the median number of citations?"
   ]
  },
  {
   "cell_type": "code",
   "execution_count": 18,
   "metadata": {},
   "outputs": [
    {
     "data": {
      "image/png": "[encoded data removed]",
      "text/plain": [
       "<matplotlib.figure.Figure at 0x2295e6df080>"
      ]
     },
     "metadata": {},
     "output_type": "display_data"
    }
   ],
   "source": [
    "venue_impact = {}\n",
    "\n",
    "for venue in cite_count_venue.keys():   \n",
    "    venue_impact[venue] = 0    \n",
    "    if venue != 'None' and venue_to_publications.get(venue) != None and venue_to_publications[venue] >=10 :\n",
    "        venue_impact[venue] = cite_count_venue[venue]/venue_to_publications[venue]        \n",
    "\n",
    "import matplotlib.pyplot as plt\n",
    "\n",
    "plt.title('Histogram of Venue Impacts >=10')\n",
    "plt.grid(True)\n",
    "\n",
    "plt.hist(list(venue_impact.values()),bins=50,log=True)\n",
    "plt.show()"
   ]
  },
  {
   "cell_type": "code",
   "execution_count": 22,
   "metadata": {},
   "outputs": [
    {
     "name": "stdout",
     "output_type": "stream",
     "text": [
      "Venue with max impact =  Proceedings of the 2001 conference on Applications, technologies, architectures, and protocols for computer communications : with value =  214.6086956521739\n",
      "Median of citations 1075854.0\n"
     ]
    }
   ],
   "source": [
    "import numpy as np\n",
    "\n",
    "max_index = list(venue_impact.values()).index(max(list(venue_impact.values())))\n",
    "print(\"Venue with max impact = \" , list(venue_impact.keys())[max_index].strip() , \": with value = \" , list(venue_impact.values())[max_index])\n",
    "print(\"Median of citations\" , np.median(np.array(list(cite_count_venue.values()))[0]))"
   ]
  },
  {
   "cell_type": "markdown",
   "metadata": {},
   "source": [
    "<b>i) Finally, construct a list of publications for each publication year. Use this list to plot the average number of references and average number of citations per publication as a function of time. Explain the differences you see in the trends."
   ]
  },
  {
   "cell_type": "code",
   "execution_count": 25,
   "metadata": {
    "collapsed": true
   },
   "outputs": [],
   "source": [
    "year_publications = {}\n",
    "year_avg = {}\n",
    "\n",
    "with open(\"Desktop/AP_train.txt\",'r', newline='', encoding=\"utf8\") as apfile:    \n",
    "    index = 0\n",
    "    year = 0\n",
    "    for row in apfile:        \n",
    "        if row.startswith(\"#index\"):                        \n",
    "            index = int(row[7:])\n",
    "        elif row.startswith(\"#t\") and len(row)==8:\n",
    "            year = int(row[3:])            \n",
    "            if year_publications.get(year) == None:\n",
    "                year_publications[year] = {\"publications\":0,\"cites\":0,\"refs\":0}\n",
    "                year_publications[year][\"publications\"] = 1                \n",
    "                if cite.get(index) != None:\n",
    "                    year_publications[year][\"cites\"] = cite.get(index)\n",
    "                if ref.get(index) != None:\n",
    "                    year_publications[year][\"refs\"] = ref.get(index)\n",
    "            else:\n",
    "                year_publications[year][\"publications\"] += 1\n",
    "                if cite.get(index) != None:\n",
    "                    year_publications[year][\"cites\"] += cite.get(index)\n",
    "                if ref.get(index) != None:\n",
    "                    year_publications[year][\"refs\"] += ref.get(index)"
   ]
  },
  {
   "cell_type": "code",
   "execution_count": 26,
   "metadata": {
    "collapsed": true
   },
   "outputs": [],
   "source": [
    "\n",
    "import collections\n",
    "\n",
    "for year in year_publications.keys():\n",
    "    year_avg[year] = {}\n",
    "    year_avg[year][\"cites\"] = year_publications[year][\"cites\"]/ year_publications[year][\"publications\"]\n",
    "    year_avg[year][\"refs\"] = year_publications[year][\"refs\"]/ year_publications[year][\"publications\"]\n",
    "    #print(\"Averages for year\" ,year, year_avg[year])\n",
    "\n",
    "year_avg = collections.OrderedDict(sorted(year_avg.items()))"
   ]
  },
  {
   "cell_type": "code",
   "execution_count": 28,
   "metadata": {},
   "outputs": [
    {
     "data": {
      "image/png": "[encoded data removed]",
      "text/plain": [
       "<matplotlib.figure.Figure at 0x22959cf62e8>"
      ]
     },
     "metadata": {},
     "output_type": "display_data"
    }
   ],
   "source": [
    "x = list(year_avg.keys())\n",
    "y1 = list([year_avg[year][\"cites\"] for year in x])\n",
    "y2 = list([year_avg[year][\"refs\"] for year in x])\n",
    "\n",
    "fig, ax = plt.subplots()\n",
    "ax.plot(x, y1, 'r', label='Avg no. of citations')\n",
    "ax.plot(x, y2, 'b', label='Avg no. of references')\n",
    "\n",
    "legend = ax.legend(loc='upper right')\n",
    "\n",
    "plt.show()"
   ]
  },
  {
   "cell_type": "code",
   "execution_count": null,
   "metadata": {
    "collapsed": true
   },
   "outputs": [],
   "source": []
  }
 ],
 "metadata": {
  "kernelspec": {
   "display_name": "Python 3",
   "language": "python",
   "name": "python3"
  },
  "language_info": {
   "codemirror_mode": {
    "name": "ipython",
    "version": 3
   },
   "file_extension": ".py",
   "mimetype": "text/x-python",
   "name": "python",
   "nbconvert_exporter": "python",
   "pygments_lexer": "ipython3",
   "version": "3.6.3"
  }
 },
 "nbformat": 4,
 "nbformat_minor": 2
}
