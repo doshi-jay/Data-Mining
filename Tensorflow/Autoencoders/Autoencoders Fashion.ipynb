{
 "cells": [
  {
   "cell_type": "code",
   "execution_count": 21,
   "metadata": {},
   "outputs": [],
   "source": [
    "import tensorflow as tf\n",
    "from tensorflow.examples.tutorials.mnist import input_data\n",
    "import numpy as np\n",
    "import matplotlib.pyplot as plt\n",
    "import mnist_reader"
   ]
  },
  {
   "cell_type": "code",
   "execution_count": 22,
   "metadata": {},
   "outputs": [],
   "source": [
    "training_images, training_labels = mnist_reader.load_mnist('', kind='train')\n",
    "test_images, test_labels = mnist_reader.load_mnist('', kind='t10k')\n",
    "images = np.array(list(training_images) + list(test_images))\n",
    "session = tf.InteractiveSession()"
   ]
  },
  {
   "cell_type": "code",
   "execution_count": 23,
   "metadata": {},
   "outputs": [
    {
     "data": {
      "image/png": "[encoded data removed]",
      "text/plain": [
       "<matplotlib.figure.Figure at 0x11f339f3cc0>"
      ]
     },
     "metadata": {},
     "output_type": "display_data"
    }
   ],
   "source": [
    "plt.imshow(images[0].reshape(28, 28), cmap='gray')\n",
    "plt.show()"
   ]
  },
  {
   "cell_type": "code",
   "execution_count": 24,
   "metadata": {},
   "outputs": [],
   "source": [
    "# Training Parameters\n",
    "learning_rate = 0.00001\n",
    "num_steps = 30000\n",
    "batch_size = 2\n",
    "\n",
    "display_step = 1000\n",
    "examples_to_show = 10\n",
    "\n",
    "\n",
    "num_hidden_1 = 512 \n",
    "num_hidden_2 = 256 \n",
    "num_input = 784 \n",
    "\n",
    "\n",
    "X = tf.placeholder(\"float\", [None, num_input])\n",
    "\n",
    "weights = {\n",
    "    'encoder_h1': tf.Variable(tf.random_normal([num_input, num_hidden_1])),\n",
    "    'encoder_h2': tf.Variable(tf.random_normal([num_hidden_1, num_hidden_2])),\n",
    "    'decoder_h1': tf.Variable(tf.random_normal([num_hidden_2, num_hidden_1])),\n",
    "    'decoder_h2': tf.Variable(tf.random_normal([num_hidden_1, num_input])),\n",
    "}\n",
    "biases = {\n",
    "    'encoder_b1': tf.Variable(tf.random_normal([num_hidden_1])),\n",
    "    'encoder_b2': tf.Variable(tf.random_normal([num_hidden_2])),\n",
    "    'decoder_b1': tf.Variable(tf.random_normal([num_hidden_1])),\n",
    "    'decoder_b2': tf.Variable(tf.random_normal([num_input])),\n",
    "}"
   ]
  },
  {
   "cell_type": "code",
   "execution_count": 25,
   "metadata": {},
   "outputs": [],
   "source": [
    "def encoder(x):\n",
    "    layer_1 = tf.nn.sigmoid(tf.add(tf.matmul(x, weights['encoder_h1']),\n",
    "                                   biases['encoder_b1']))\n",
    "    layer_2 = tf.nn.sigmoid(tf.add(tf.matmul(layer_1, weights['encoder_h2']),\n",
    "                                   biases['encoder_b2']))\n",
    "    return layer_2\n",
    "\n",
    "\n",
    "def decoder(x):\n",
    "    layer_1 = tf.nn.sigmoid(tf.add(tf.matmul(x, weights['decoder_h1']),\n",
    "                                   biases['decoder_b1']))\n",
    "    layer_2 = tf.nn.sigmoid(tf.add(tf.matmul(layer_1, weights['decoder_h2']),\n",
    "                                   biases['decoder_b2']))\n",
    "    return layer_2"
   ]
  },
  {
   "cell_type": "code",
   "execution_count": 26,
   "metadata": {},
   "outputs": [],
   "source": [
    "encoder_op = encoder(X)\n",
    "decoder_op = decoder(encoder_op)\n",
    "# Prediction\n",
    "y_pred = decoder_op\n",
    "# Targets (Labels) are the input data.\n",
    "y_true = X\n",
    "\n",
    "\n",
    "loss = tf.reduce_mean(tf.pow(y_true - y_pred, 2))\n",
    "optimizer = tf.train.RMSPropOptimizer(learning_rate).minimize(loss)\n",
    "\n",
    "\n",
    "init = tf.global_variables_initializer()"
   ]
  },
  {
   "cell_type": "code",
   "execution_count": 29,
   "metadata": {},
   "outputs": [
    {
     "name": "stdout",
     "output_type": "stream",
     "text": [
      "Step 0: Minibatch Loss: 20707.328125\n",
      "Step 1: Minibatch Loss: 5724.971191\n",
      "Step 1000: Minibatch Loss: 14286.298828\n",
      "Step 2000: Minibatch Loss: 20568.470703\n",
      "Step 3000: Minibatch Loss: 19394.763672\n",
      "Step 4000: Minibatch Loss: 7622.086914\n",
      "Step 5000: Minibatch Loss: 7732.987305\n",
      "Step 6000: Minibatch Loss: 19386.748047\n",
      "Step 7000: Minibatch Loss: 7578.082031\n",
      "Step 8000: Minibatch Loss: 11822.607422\n",
      "Step 9000: Minibatch Loss: 26541.583984\n",
      "Step 10000: Minibatch Loss: 13587.841797\n",
      "Step 11000: Minibatch Loss: 17009.966797\n",
      "Step 12000: Minibatch Loss: 13310.207031\n",
      "Step 13000: Minibatch Loss: 6905.956055\n",
      "Step 14000: Minibatch Loss: 6462.177734\n",
      "Step 15000: Minibatch Loss: 12771.833008\n",
      "Step 16000: Minibatch Loss: 9677.668945\n",
      "Step 17000: Minibatch Loss: 12702.824219\n",
      "Step 18000: Minibatch Loss: 18963.359375\n",
      "Step 19000: Minibatch Loss: 11639.704102\n",
      "Step 20000: Minibatch Loss: 5020.434082\n",
      "Step 21000: Minibatch Loss: 17771.312500\n",
      "Step 22000: Minibatch Loss: 13313.187500\n",
      "Step 23000: Minibatch Loss: 11444.688477\n",
      "Step 24000: Minibatch Loss: 10336.788086\n",
      "Step 25000: Minibatch Loss: 10280.544922\n",
      "Step 26000: Minibatch Loss: 23597.183594\n",
      "Step 27000: Minibatch Loss: 11768.583008\n",
      "Step 28000: Minibatch Loss: 8416.228516\n",
      "Step 29000: Minibatch Loss: 18217.648438\n",
      "Step 30000: Minibatch Loss: nan\n"
     ]
    }
   ],
   "source": [
    "sess = tf.Session()\n",
    "sess.run(init)\n",
    "\n",
    "\n",
    "# Training\n",
    "for index in range(num_steps+1):\n",
    "    batch_x = training_images[index * batch_size: (index + 1) * batch_size]\n",
    "    _, l = sess.run([optimizer, loss], feed_dict={X: batch_x})\n",
    "    if index % display_step == 0 or index == 1:\n",
    "        print('Step %i: Minibatch Loss: %f' % (index, l)) "
   ]
  },
  {
   "cell_type": "code",
   "execution_count": 30,
   "metadata": {},
   "outputs": [],
   "source": [
    "reconstructed_images = []\n",
    "g = sess.run(decoder_op, feed_dict={X:images})\n",
    "reconstructed_images = list(g)"
   ]
  },
  {
   "cell_type": "code",
   "execution_count": 31,
   "metadata": {},
   "outputs": [
    {
     "data": {
      "text/plain": [
       "(70000, 784)"
      ]
     },
     "execution_count": 31,
     "metadata": {},
     "output_type": "execute_result"
    }
   ],
   "source": [
    "np.array(reconstructed_images).shape"
   ]
  },
  {
   "cell_type": "code",
   "execution_count": null,
   "metadata": {},
   "outputs": [],
   "source": [
    "from sklearn import linear_model\n",
    "from sklearn.metrics import accuracy_score\n",
    "log_reg = linear_model.LogisticRegression()\n",
    "log_reg.fit(reconstructed_images[:60000], training_labels)\n",
    "print(\"Predicting\")\n",
    "predicted_labels = log_reg.predict(reconstructed_images[60000:])\n",
    "print(\"Calculating score\")\n",
    "score = accuracy_score(test_labels,predicted_labels)\n",
    "print(\"Accuracy of predictions: \" ,score * 100, \"%\")"
   ]
  },
  {
   "cell_type": "code",
   "execution_count": 32,
   "metadata": {},
   "outputs": [],
   "source": [
    "test_image_index = 7"
   ]
  },
  {
   "cell_type": "code",
   "execution_count": 33,
   "metadata": {},
   "outputs": [
    {
     "data": {
      "image/png": "[encoded data removed]",
      "text/plain": [
       "<matplotlib.figure.Figure at 0x11f33a57d30>"
      ]
     },
     "metadata": {},
     "output_type": "display_data"
    }
   ],
   "source": [
    "plt.imshow(training_images[test_image_index].reshape(28,28), cmap='gray')\n",
    "plt.show()"
   ]
  },
  {
   "cell_type": "code",
   "execution_count": 34,
   "metadata": {},
   "outputs": [
    {
     "data": {
      "image/png": "[encoded data removed]",
      "text/plain": [
       "<matplotlib.figure.Figure at 0x11f33a576a0>"
      ]
     },
     "metadata": {},
     "output_type": "display_data"
    }
   ],
   "source": [
    "plt.imshow(reconstructed_images[test_image_index].reshape(28,28), cmap='gray')\n",
    "plt.show()"
   ]
  },
  {
   "cell_type": "code",
   "execution_count": 35,
   "metadata": {},
   "outputs": [
    {
     "data": {
      "image/png": "[encoded data removed]",
      "text/plain": [
       "<matplotlib.figure.Figure at 0x11f33a57710>"
      ]
     },
     "metadata": {},
     "output_type": "display_data"
    }
   ],
   "source": [
    "import numpy as np\n",
    "import matplotlib.pyplot as plt\n",
    "\n",
    "fig=plt.figure(figsize=(20, 20))\n",
    "columns = 4\n",
    "rows = 4\n",
    "for i in range(1, rows +1):\n",
    "    fig.add_subplot(rows, columns, i)\n",
    "    plt.imshow(training_images[i].reshape(28,28))\n",
    "\n",
    "plt.show()"
   ]
  },
  {
   "cell_type": "code",
   "execution_count": 36,
   "metadata": {},
   "outputs": [
    {
     "data": {
      "image/png": "[encoded data removed]",
      "text/plain": [
       "<matplotlib.figure.Figure at 0x11f33a46c88>"
      ]
     },
     "metadata": {},
     "output_type": "display_data"
    }
   ],
   "source": [
    "plt.imshow(reconstructed_images[4].reshape(28,28), cmap='gray')\n",
    "plt.show()"
   ]
  },
  {
   "cell_type": "code",
   "execution_count": 37,
   "metadata": {},
   "outputs": [],
   "source": [
    "reconstructed_images_reduced_dim = []\n",
    "g = sess.run(encoder_op, feed_dict={X:images})\n",
    "reconstructed_images_reduced_dim = list(g)"
   ]
  },
  {
   "cell_type": "code",
   "execution_count": 38,
   "metadata": {},
   "outputs": [
    {
     "data": {
      "text/plain": [
       "(70000, 256)"
      ]
     },
     "execution_count": 38,
     "metadata": {},
     "output_type": "execute_result"
    }
   ],
   "source": [
    "np.array(reconstructed_images_reduced_dim).shape"
   ]
  },
  {
   "cell_type": "code",
   "execution_count": 47,
   "metadata": {},
   "outputs": [
    {
     "name": "stdout",
     "output_type": "stream",
     "text": [
      "Accuracy of predictions:  77.14 %\n"
     ]
    }
   ],
   "source": [
    "from sklearn import linear_model\n",
    "from sklearn.metrics import accuracy_score\n",
    "log_reg = linear_model.LogisticRegression()\n",
    "log_reg.fit(reconstructed_images_reduced_dim[:60000], training_labels)\n",
    "predicted_labels = log_reg.predict(reconstructed_images_reduced_dim[60000:])\n",
    "score = accuracy_score(test_labels,predicted_labels)\n",
    "print(\"Accuracy of predictions: \" ,score * 100, \"%\")"
   ]
  },
  {
   "cell_type": "code",
   "execution_count": 39,
   "metadata": {},
   "outputs": [
    {
     "data": {
      "image/png": "[encoded data removed]",
      "text/plain": [
       "<matplotlib.figure.Figure at 0x11f0ef5d668>"
      ]
     },
     "metadata": {},
     "output_type": "display_data"
    }
   ],
   "source": [
    "plt.imshow(training_images[4].reshape(28,28), cmap='gray')\n",
    "plt.show()"
   ]
  },
  {
   "cell_type": "code",
   "execution_count": 40,
   "metadata": {},
   "outputs": [
    {
     "data": {
      "image/png": "[encoded data removed]",
      "text/plain": [
       "<matplotlib.figure.Figure at 0x11f0fc6f518>"
      ]
     },
     "metadata": {},
     "output_type": "display_data"
    }
   ],
   "source": [
    "plt.imshow(reconstructed_images_reduced_dim[4].reshape(16,16), cmap='gray')\n",
    "plt.show()"
   ]
  },
  {
   "cell_type": "code",
   "execution_count": 42,
   "metadata": {},
   "outputs": [
    {
     "data": {
      "image/png": "[encoded data removed]",
      "text/plain": [
       "<matplotlib.figure.Figure at 0x11f0fcf8cc0>"
      ]
     },
     "metadata": {},
     "output_type": "display_data"
    }
   ],
   "source": [
    "plt.imshow(reconstructed_images[4].reshape(28,28), cmap='gray')\n",
    "plt.show()"
   ]
  },
  {
   "cell_type": "code",
   "execution_count": 46,
   "metadata": {},
   "outputs": [
    {
     "data": {
      "image/png": "[encoded data removed]",
      "text/plain": [
       "<matplotlib.figure.Figure at 0x11f109f7470>"
      ]
     },
     "metadata": {},
     "output_type": "display_data"
    }
   ],
   "source": [
    "plt.imshow(np.reshape(reconstructed_images_reduced_dim[4], (16,-1)), cmap='gray')\n",
    "plt.show()"
   ]
  },
  {
   "cell_type": "code",
   "execution_count": null,
   "metadata": {},
   "outputs": [],
   "source": []
  }
 ],
 "metadata": {
  "kernelspec": {
   "display_name": "Python 3",
   "language": "python",
   "name": "python3"
  },
  "language_info": {
   "codemirror_mode": {
    "name": "ipython",
    "version": 3
   },
   "file_extension": ".py",
   "mimetype": "text/x-python",
   "name": "python",
   "nbconvert_exporter": "python",
   "pygments_lexer": "ipython3",
   "version": "3.6.3"
  }
 },
 "nbformat": 4,
 "nbformat_minor": 2
}
