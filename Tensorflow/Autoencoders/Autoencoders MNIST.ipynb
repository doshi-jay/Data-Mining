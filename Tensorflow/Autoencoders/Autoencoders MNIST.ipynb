{
 "cells": [
  {
   "cell_type": "code",
   "execution_count": 1,
   "metadata": {},
   "outputs": [
    {
     "name": "stderr",
     "output_type": "stream",
     "text": [
      "/usr/local/Cellar/python3/3.6.4_2/Frameworks/Python.framework/Versions/3.6/lib/python3.6/importlib/_bootstrap.py:219: RuntimeWarning: compiletime version 3.5 of module 'tensorflow.python.framework.fast_tensor_util' does not match runtime version 3.6\n",
      "  return f(*args, **kwds)\n"
     ]
    }
   ],
   "source": [
    "import tensorflow as tf\n",
    "from tensorflow.examples.tutorials.mnist import input_data\n",
    "import numpy as np\n",
    "import matplotlib.pyplot as plt\n",
    "from sklearn.metrics.pairwise import euclidean_distances"
   ]
  },
  {
   "cell_type": "code",
   "execution_count": 2,
   "metadata": {},
   "outputs": [
    {
     "name": "stdout",
     "output_type": "stream",
     "text": [
      "Extracting MNIST_data/train-images-idx3-ubyte.gz\n",
      "Extracting MNIST_data/train-labels-idx1-ubyte.gz\n",
      "Extracting MNIST_data/t10k-images-idx3-ubyte.gz\n",
      "Extracting MNIST_data/t10k-labels-idx1-ubyte.gz\n"
     ]
    }
   ],
   "source": [
    "mnist = input_data.read_data_sets('MNIST_data')\n",
    "training_images, test_images = mnist.train.images, mnist.test.images\n",
    "images = np.array(list(training_images) + list(test_images))\n",
    "training_labels, test_labels = mnist.train.labels, mnist.test.labels\n",
    "session = tf.InteractiveSession()"
   ]
  },
  {
   "cell_type": "code",
   "execution_count": 3,
   "metadata": {},
   "outputs": [],
   "source": [
    "\n",
    "learning_rate = 0.01\n",
    "num_steps = 30000\n",
    "batch_size = 256\n",
    "\n",
    "display_step = 1000\n",
    "examples_to_show = 10\n",
    "\n",
    "\n",
    "num_hidden_1 = 256 \n",
    "num_hidden_2 = 128 \n",
    "num_input = 784 \n",
    "\n",
    "X = tf.placeholder(\"float\", [None, num_input])\n",
    "\n",
    "weights = {\n",
    "    'encoder_h1': tf.Variable(tf.random_normal([num_input, num_hidden_1])),\n",
    "    'encoder_h2': tf.Variable(tf.random_normal([num_hidden_1, num_hidden_2])),\n",
    "    'decoder_h1': tf.Variable(tf.random_normal([num_hidden_2, num_hidden_1])),\n",
    "    'decoder_h2': tf.Variable(tf.random_normal([num_hidden_1, num_input])),\n",
    "}\n",
    "biases = {\n",
    "    'encoder_b1': tf.Variable(tf.random_normal([num_hidden_1])),\n",
    "    'encoder_b2': tf.Variable(tf.random_normal([num_hidden_2])),\n",
    "    'decoder_b1': tf.Variable(tf.random_normal([num_hidden_1])),\n",
    "    'decoder_b2': tf.Variable(tf.random_normal([num_input])),\n",
    "}"
   ]
  },
  {
   "cell_type": "code",
   "execution_count": 4,
   "metadata": {},
   "outputs": [],
   "source": [
    "def encoder(x):\n",
    "    layer_1 = tf.nn.sigmoid(tf.add(tf.matmul(x, weights['encoder_h1']),\n",
    "                                   biases['encoder_b1']))\n",
    "    layer_2 = tf.nn.sigmoid(tf.add(tf.matmul(layer_1, weights['encoder_h2']),\n",
    "                                   biases['encoder_b2']))\n",
    "    return layer_2\n",
    "\n",
    "\n",
    "def decoder(x):\n",
    "    layer_1 = tf.nn.sigmoid(tf.add(tf.matmul(x, weights['decoder_h1']),\n",
    "                                   biases['decoder_b1']))\n",
    "    layer_2 = tf.nn.sigmoid(tf.add(tf.matmul(layer_1, weights['decoder_h2']),\n",
    "                                   biases['decoder_b2']))\n",
    "    return layer_2"
   ]
  },
  {
   "cell_type": "code",
   "execution_count": 5,
   "metadata": {},
   "outputs": [],
   "source": [
    "\n",
    "encoder_op = encoder(X)\n",
    "decoder_op = decoder(encoder_op)\n",
    "# Prediction\n",
    "y_pred = decoder_op\n",
    "# Targets (Labels) are the input data.\n",
    "y_true = X\n",
    "\n",
    "# Define loss and optimizer, minimize the squared error\n",
    "loss = tf.reduce_mean(tf.pow(y_true - y_pred, 2))\n",
    "optimizer = tf.train.RMSPropOptimizer(learning_rate).minimize(loss)\n",
    "\n",
    "init = tf.global_variables_initializer()"
   ]
  },
  {
   "cell_type": "code",
   "execution_count": 6,
   "metadata": {},
   "outputs": [
    {
     "name": "stdout",
     "output_type": "stream",
     "text": [
      "Step 1: Minibatch Loss: 0.442824\n",
      "Step 1000: Minibatch Loss: 0.137237\n",
      "Step 2000: Minibatch Loss: 0.119690\n",
      "Step 3000: Minibatch Loss: 0.114696\n",
      "Step 4000: Minibatch Loss: 0.109714\n",
      "Step 5000: Minibatch Loss: 0.103794\n",
      "Step 6000: Minibatch Loss: 0.097387\n",
      "Step 7000: Minibatch Loss: 0.094786\n",
      "Step 8000: Minibatch Loss: 0.092745\n",
      "Step 9000: Minibatch Loss: 0.090429\n",
      "Step 10000: Minibatch Loss: 0.087958\n",
      "Step 11000: Minibatch Loss: 0.084323\n",
      "Step 12000: Minibatch Loss: 0.079972\n",
      "Step 13000: Minibatch Loss: 0.081850\n",
      "Step 14000: Minibatch Loss: 0.076700\n",
      "Step 15000: Minibatch Loss: 0.078381\n",
      "Step 16000: Minibatch Loss: 0.075119\n",
      "Step 17000: Minibatch Loss: 0.071966\n",
      "Step 18000: Minibatch Loss: 0.071262\n",
      "Step 19000: Minibatch Loss: 0.066837\n",
      "Step 20000: Minibatch Loss: 0.067479\n",
      "Step 21000: Minibatch Loss: 0.064310\n",
      "Step 22000: Minibatch Loss: 0.062229\n",
      "Step 23000: Minibatch Loss: 0.062007\n",
      "Step 24000: Minibatch Loss: 0.062114\n",
      "Step 25000: Minibatch Loss: 0.059215\n",
      "Step 26000: Minibatch Loss: 0.058938\n",
      "Step 27000: Minibatch Loss: 0.057669\n",
      "Step 28000: Minibatch Loss: 0.059689\n",
      "Step 29000: Minibatch Loss: 0.056567\n",
      "Step 30000: Minibatch Loss: 0.055569\n"
     ]
    }
   ],
   "source": [
    "sess = tf.Session()\n",
    "sess.run(init)\n",
    "\n",
    "# Training\n",
    "for i in range(1, num_steps+1):\n",
    "    batch_x, _ = mnist.train.next_batch(batch_size)\n",
    "    _, l = sess.run([optimizer, loss], feed_dict={X: batch_x})\n",
    "\n",
    "    if i % display_step == 0 or i == 1:\n",
    "        print('Step %i: Minibatch Loss: %f' % (i, l))\n",
    "\n",
    "\n",
    "    "
   ]
  },
  {
   "cell_type": "code",
   "execution_count": 7,
   "metadata": {},
   "outputs": [],
   "source": [
    "reconstructed_images = []\n",
    "g = sess.run(decoder_op, feed_dict={X:images})\n",
    "reconstructed_images = list(g)"
   ]
  },
  {
   "cell_type": "code",
   "execution_count": 8,
   "metadata": {},
   "outputs": [
    {
     "data": {
      "text/plain": [
       "(65000, 784)"
      ]
     },
     "execution_count": 8,
     "metadata": {},
     "output_type": "execute_result"
    }
   ],
   "source": [
    "np.array(reconstructed_images).shape"
   ]
  },
  {
   "cell_type": "code",
   "execution_count": 110,
   "metadata": {},
   "outputs": [
    {
     "name": "stdout",
     "output_type": "stream",
     "text": [
      "Accuracy of predictions:  92.95 %\n"
     ]
    }
   ],
   "source": [
    "from sklearn import linear_model\n",
    "from sklearn.metrics import accuracy_score\n",
    "log_reg = linear_model.LogisticRegression()\n",
    "log_reg.fit(reconstructed_images[:55000], training_labels)\n",
    "predicted_labels = log_reg.predict(reconstructed_images[55000:])\n",
    "score = accuracy_score(test_labels,predicted_labels)\n",
    "print(\"Accuracy of predictions: \" ,score * 100, \"%\")"
   ]
  },
  {
   "cell_type": "code",
   "execution_count": 9,
   "metadata": {},
   "outputs": [
    {
     "data": {
      "text/plain": [
       "<matplotlib.image.AxesImage at 0x1233c4908>"
      ]
     },
     "execution_count": 9,
     "metadata": {},
     "output_type": "execute_result"
    },
    {
     "data": {
      "image/png": "[encoded data removed]",
      "text/plain": [
       "<matplotlib.figure.Figure at 0x129b2f780>"
      ]
     },
     "metadata": {},
     "output_type": "display_data"
    }
   ],
   "source": [
    "plt.imshow(training_images[0].reshape(28,28))"
   ]
  },
  {
   "cell_type": "code",
   "execution_count": 10,
   "metadata": {},
   "outputs": [
    {
     "data": {
      "text/plain": [
       "<matplotlib.image.AxesImage at 0x1238b29b0>"
      ]
     },
     "execution_count": 10,
     "metadata": {},
     "output_type": "execute_result"
    },
    {
     "data": {
      "image/png": "[encoded data removed]",
      "text/plain": [
       "<matplotlib.figure.Figure at 0x1233a6400>"
      ]
     },
     "metadata": {},
     "output_type": "display_data"
    }
   ],
   "source": [
    "plt.imshow(reconstructed_images[0].reshape(28,28))"
   ]
  },
  {
   "cell_type": "code",
   "execution_count": 100,
   "metadata": {},
   "outputs": [
    {
     "data": {
      "text/plain": [
       "4"
      ]
     },
     "execution_count": 100,
     "metadata": {},
     "output_type": "execute_result"
    }
   ],
   "source": [
    "training_labels[2]"
   ]
  },
  {
   "cell_type": "code",
   "execution_count": 10,
   "metadata": {},
   "outputs": [],
   "source": [
    "reconstructed_images_reduced_dim = []\n",
    "g = sess.run(encoder_op, feed_dict={X:images})\n",
    "reconstructed_images_reduced_dim = list(g)"
   ]
  },
  {
   "cell_type": "code",
   "execution_count": 11,
   "metadata": {},
   "outputs": [
    {
     "data": {
      "text/plain": [
       "(65000, 128)"
      ]
     },
     "execution_count": 11,
     "metadata": {},
     "output_type": "execute_result"
    }
   ],
   "source": [
    "np.array(reconstructed_images_reduced_dim).shape"
   ]
  },
  {
   "cell_type": "code",
   "execution_count": 113,
   "metadata": {},
   "outputs": [
    {
     "name": "stdout",
     "output_type": "stream",
     "text": [
      "Accuracy of predictions:  88.29 %\n"
     ]
    }
   ],
   "source": [
    "from sklearn import linear_model\n",
    "from sklearn.metrics import accuracy_score\n",
    "log_reg = linear_model.LogisticRegression()\n",
    "log_reg.fit(reconstructed_images_reduced_dim[:55000], training_labels)\n",
    "predicted_labels = log_reg.predict(reconstructed_images_reduced_dim[55000:])\n",
    "score = accuracy_score(test_labels,predicted_labels)\n",
    "print(\"Accuracy of predictions: \" ,score * 100, \"%\")"
   ]
  },
  {
   "cell_type": "code",
   "execution_count": 12,
   "metadata": {},
   "outputs": [],
   "source": [
    "reduced_dim_distances = euclidean_distances(reconstructed_images_reduced_dim[:10000])"
   ]
  },
  {
   "cell_type": "code",
   "execution_count": 17,
   "metadata": {},
   "outputs": [],
   "source": [
    "reconstructed_distances = euclidean_distances(reconstructed_images[:10000])"
   ]
  },
  {
   "cell_type": "code",
   "execution_count": 18,
   "metadata": {},
   "outputs": [
    {
     "data": {
      "text/plain": [
       "(10000, 10000)"
      ]
     },
     "execution_count": 18,
     "metadata": {},
     "output_type": "execute_result"
    }
   ],
   "source": [
    "reduced_dim_distances.shape"
   ]
  },
  {
   "cell_type": "code",
   "execution_count": 22,
   "metadata": {},
   "outputs": [
    {
     "data": {
      "text/plain": [
       "(10000, 10000)"
      ]
     },
     "execution_count": 22,
     "metadata": {},
     "output_type": "execute_result"
    }
   ],
   "source": [
    "reconstructed_distances.shape"
   ]
  },
  {
   "cell_type": "code",
   "execution_count": 23,
   "metadata": {},
   "outputs": [
    {
     "data": {
      "text/plain": [
       "array([[ 0.       ,  9.952848 ,  9.361578 , ...,  9.364436 , 10.106868 ,\n",
       "         9.72345  ],\n",
       "       [ 9.952848 ,  0.       ,  6.929993 , ...,  8.151341 ,  8.286343 ,\n",
       "         7.7759852],\n",
       "       [ 9.361578 ,  6.929993 ,  0.       , ...,  7.4122663,  8.128747 ,\n",
       "         7.149063 ],\n",
       "       ...,\n",
       "       [11.400328 ,  9.985785 , 10.273959 , ..., 10.200666 , 11.005852 ,\n",
       "         9.733497 ],\n",
       "       [ 8.252883 ,  7.486067 ,  7.1142397, ...,  7.6140733,  8.6912   ,\n",
       "         7.404693 ],\n",
       "       [10.513261 ,  6.4530144,  7.4158125, ...,  8.558944 ,  8.921091 ,\n",
       "         8.046338 ]], dtype=float32)"
      ]
     },
     "execution_count": 23,
     "metadata": {},
     "output_type": "execute_result"
    }
   ],
   "source": [
    "reconstructed_distances[:10]"
   ]
  },
  {
   "cell_type": "code",
   "execution_count": 24,
   "metadata": {},
   "outputs": [],
   "source": [
    "actual_distances = euclidean_distances(images[:10000])"
   ]
  },
  {
   "cell_type": "code",
   "execution_count": 25,
   "metadata": {},
   "outputs": [
    {
     "data": {
      "text/plain": [
       "array([[ 0.       , 11.858395 , 10.927333 , ..., 10.725627 , 10.960391 ,\n",
       "        11.021754 ],\n",
       "       [11.858395 ,  0.       ,  8.588782 , ...,  9.349463 ,  9.38212  ,\n",
       "         9.167923 ],\n",
       "       [10.927333 ,  8.588782 ,  0.       , ...,  7.955282 ,  9.33325  ,\n",
       "         7.5750613],\n",
       "       ...,\n",
       "       [12.557859 , 10.789633 , 11.420871 , ..., 11.234111 , 11.934837 ,\n",
       "        11.24439  ],\n",
       "       [ 9.740945 ,  9.381251 ,  7.6300664, ...,  8.364017 ,  9.0807085,\n",
       "         8.162051 ],\n",
       "       [12.408794 ,  8.012923 ,  9.242344 , ..., 10.1756735, 10.068241 ,\n",
       "         9.895334 ]], dtype=float32)"
      ]
     },
     "execution_count": 25,
     "metadata": {},
     "output_type": "execute_result"
    }
   ],
   "source": [
    "actual_distances[:10]"
   ]
  },
  {
   "cell_type": "code",
   "execution_count": 26,
   "metadata": {},
   "outputs": [
    {
     "data": {
      "text/plain": [
       "array([[0.       , 4.065956 , 3.9075954, ..., 4.5023637, 4.1750402,\n",
       "        4.733383 ],\n",
       "       [4.065956 , 0.       , 2.7948856, ..., 4.120319 , 3.7200515,\n",
       "        4.043821 ],\n",
       "       [3.9075954, 2.7948856, 0.       , ..., 3.9856663, 3.9819875,\n",
       "        3.9261768],\n",
       "       ...,\n",
       "       [4.1080623, 3.986454 , 3.6648746, ..., 4.379651 , 4.3836217,\n",
       "        4.1933146],\n",
       "       [3.6755228, 3.5882707, 3.3971643, ..., 4.051866 , 4.229648 ,\n",
       "        3.8830817],\n",
       "       [4.1216455, 2.935905 , 3.0306785, ..., 4.011011 , 3.9164906,\n",
       "        3.8696458]], dtype=float32)"
      ]
     },
     "execution_count": 26,
     "metadata": {},
     "output_type": "execute_result"
    }
   ],
   "source": [
    "reduced_dim_distances[:10]"
   ]
  }
 ],
 "metadata": {
  "kernelspec": {
   "display_name": "Python 3",
   "language": "python",
   "name": "python3"
  },
  "language_info": {
   "codemirror_mode": {
    "name": "ipython",
    "version": 3
   },
   "file_extension": ".py",
   "mimetype": "text/x-python",
   "name": "python",
   "nbconvert_exporter": "python",
   "pygments_lexer": "ipython3",
   "version": "3.6.3"
  }
 },
 "nbformat": 4,
 "nbformat_minor": 2
}
