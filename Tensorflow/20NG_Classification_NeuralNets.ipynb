{
 "cells": [
  {
   "cell_type": "code",
   "execution_count": 36,
   "metadata": {},
   "outputs": [],
   "source": [
    "from sklearn.feature_extraction.text import TfidfVectorizer\n",
    "from sklearn.datasets import fetch_20newsgroups\n",
    "import tensorflow as tf\n",
    "from sklearn.preprocessing import OneHotEncoder\n",
    "import numpy as np"
   ]
  },
  {
   "cell_type": "code",
   "execution_count": 54,
   "metadata": {},
   "outputs": [
    {
     "name": "stdout",
     "output_type": "stream",
     "text": [
      "Fecthing data..................................\n",
      "Data fetched successfully\n",
      "Turning data into Tf-IDF format................\n",
      "Successfully created bag of words.\n"
     ]
    }
   ],
   "source": [
    "print(\"Fecthing data..................................\")\n",
    "newsgroups_train = fetch_20newsgroups(subset='train')\n",
    "newsgroups_test = fetch_20newsgroups(subset='test')\n",
    "newsgroups_data = newsgroups_train.data + newsgroups_test.data\n",
    "\n",
    "print(\"Data fetched successfully\")\n",
    "print(\"Turning data into Tf-IDF format................\")\n",
    "vectorizer = TfidfVectorizer(stop_words='english')\n",
    "vectors = vectorizer.fit_transform(newsgroups_data)\n",
    "\n",
    "print(\"Successfully created bag of words.\")"
   ]
  },
  {
   "cell_type": "code",
   "execution_count": 55,
   "metadata": {},
   "outputs": [],
   "source": [
    "encoder = OneHotEncoder()\n",
    "encoder.fit(newsgroups_train['target'].reshape(-1, 1))\n",
    "train_labels = encoder.transform(newsgroups_train['target'].reshape(-1, 1))\n",
    "test_labels = encoder.transform(newsgroups_test['target'].reshape(-1, 1))\n",
    "labels = np.concatenate((train_labels.todense() , test_labels.todense()), axis=0) "
   ]
  },
  {
   "cell_type": "code",
   "execution_count": 65,
   "metadata": {},
   "outputs": [
    {
     "name": "stdout",
     "output_type": "stream",
     "text": [
      "(1885, 20)\n",
      "(1885, 173451)\n",
      "(16961, 20)\n",
      "(16961, 173451)\n"
     ]
    }
   ],
   "source": [
    "test_data = vectors[int(0.9 * vectors.shape[0]):]\n",
    "train_data = vectors[:int(0.9 * vectors.shape[0])]\n",
    "test_labels = labels[int(0.9 * labels.shape[0]):]\n",
    "train_labels = labels[:int(0.9 * labels.shape[0])]\n",
    "print(test_labels.shape)\n",
    "print(test_data.shape)\n",
    "print(train_labels.shape)\n",
    "print(train_data.shape)"
   ]
  },
  {
   "cell_type": "code",
   "execution_count": 97,
   "metadata": {},
   "outputs": [],
   "source": [
    "session = tf.InteractiveSession()\n",
    "x = tf.placeholder(tf.float32, shape=[None, train_data.shape[1]])\n",
    "y = tf.placeholder(tf.float32, shape=[None, train_labels.shape[1]])\n",
    "\n",
    "w = tf.Variable(tf.zeros(shape=[train_data.shape[1],train_labels.shape[1]]))\n",
    "b = tf.Variable(tf.zeros(shape=[train_labels.shape[1]]))\n",
    "\n",
    "session.run(tf.global_variables_initializer())"
   ]
  },
  {
   "cell_type": "code",
   "execution_count": 110,
   "metadata": {},
   "outputs": [],
   "source": [
    "y_ = tf.matmul(x,w) + b\n",
    "\n",
    "cross_entropy = tf.reduce_mean(tf.nn.softmax_cross_entropy_with_logits(labels=y, logits=y_))\n",
    "train_step = tf.train.GradientDescentOptimizer(0.01).minimize(cross_entropy)\n",
    "\n",
    "batch_size = 10\n",
    "for index in range(2000):\n",
    "    data = vectors[index * batch_size: (index + 1) * batch_size]\n",
    "    data = data.todense()\n",
    "    label = labels[index * batch_size: (index + 1) * batch_size]\n",
    "    train_step.run(feed_dict={x:np.array(data), y:np.array(label)})"
   ]
  },
  {
   "cell_type": "code",
   "execution_count": 111,
   "metadata": {},
   "outputs": [
    {
     "name": "stdout",
     "output_type": "stream",
     "text": [
      "Accuracy: 0.84456235\n"
     ]
    }
   ],
   "source": [
    "correct_prediction = tf.equal(tf.argmax(y_, 1), tf.arg_max(y, 1))\n",
    "accuracy = tf.reduce_mean(tf.cast(correct_prediction, tf.float32))\n",
    "print(\"Accuracy:\", accuracy.eval(feed_dict={x:test_data.todense(), y:test_labels}))"
   ]
  }
 ],
 "metadata": {
  "kernelspec": {
   "display_name": "Python 3",
   "language": "python",
   "name": "python3"
  },
  "language_info": {
   "codemirror_mode": {
    "name": "ipython",
    "version": 3
   },
   "file_extension": ".py",
   "mimetype": "text/x-python",
   "name": "python",
   "nbconvert_exporter": "python",
   "pygments_lexer": "ipython3",
   "version": "3.6.3"
  }
 },
 "nbformat": 4,
 "nbformat_minor": 2
}
