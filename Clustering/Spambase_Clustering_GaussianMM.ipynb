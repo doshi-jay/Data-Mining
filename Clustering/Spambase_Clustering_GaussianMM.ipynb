{
 "cells": [
  {
   "cell_type": "code",
   "execution_count": 3,
   "metadata": {},
   "outputs": [
    {
     "name": "stderr",
     "output_type": "stream",
     "text": [
      "C:\\Users\\Jay\\Anaconda3\\lib\\site-packages\\sklearn\\cross_validation.py:41: DeprecationWarning: This module was deprecated in version 0.18 in favor of the model_selection module into which all the refactored classes and functions are moved. Also note that the interface of the new CV iterators are different from that of this module. This module will be removed in 0.20.\n",
      "  \"This module will be removed in 0.20.\", DeprecationWarning)\n"
     ]
    }
   ],
   "source": [
    "import numpy as np\n",
    "import matplotlib.pyplot as plt\n",
    "from matplotlib.colors import LogNorm\n",
    "from sklearn import mixture\n",
    "from tensorflow.examples.tutorials.mnist import input_data\n",
    "import pandas as pd\n",
    "\n",
    "from sklearn.cross_validation import train_test_split"
   ]
  },
  {
   "cell_type": "code",
   "execution_count": 63,
   "metadata": {
    "collapsed": true
   },
   "outputs": [],
   "source": [
    "data = pd.read_csv('spambase.data', header=None)\n",
    "data.rename(columns={57:'is_spam'}, inplace=True)\n",
    "X_train = []\n",
    "Y_train = []\n",
    "with open(\"spambase.data\") as f:\n",
    "    for i,line in enumerate(f):\n",
    "        line= line.strip()\n",
    "        line = line.split(',')\n",
    "        line2 = [float(i) for i in line]\n",
    "        X_train.append(line2[:len(line2)-1])\n",
    "        Y_train.append(line2[len(line2)-1:][0])"
   ]
  },
  {
   "cell_type": "code",
   "execution_count": 69,
   "metadata": {
    "collapsed": true
   },
   "outputs": [],
   "source": [
    "from collections import defaultdict\n",
    "\n",
    "def get_max_occurences(L):\n",
    "    d = {}\n",
    "    for i in set(L):\n",
    "        d[i] = 0\n",
    "    for i in L:\n",
    "        d[i] += 1\n",
    "    max_value = max(d.values())\n",
    "    max_key = [k for k, v in d.items() if v == max_value]\n",
    "    return max_key[0]"
   ]
  },
  {
   "cell_type": "code",
   "execution_count": 68,
   "metadata": {},
   "outputs": [
    {
     "name": "stdout",
     "output_type": "stream",
     "text": [
      "Creating Mixture object\n",
      "Done fitting data\n"
     ]
    }
   ],
   "source": [
    "n_samples = len(X_train)\n",
    "clf = mixture.GaussianMixture(n_components=10, covariance_type='full')\n",
    "print(\"Creating Mixture object\")\n",
    "clf.fit(X_train)\n",
    "print(\"Done fitting data\")"
   ]
  },
  {
   "cell_type": "code",
   "execution_count": 64,
   "metadata": {},
   "outputs": [
    {
     "name": "stdout",
     "output_type": "stream",
     "text": [
      "4601\n"
     ]
    }
   ],
   "source": [
    "cluster_labels = clf.predict(X_train)\n",
    "print(len(cluster_labels))"
   ]
  },
  {
   "cell_type": "code",
   "execution_count": 67,
   "metadata": {},
   "outputs": [
    {
     "name": "stdout",
     "output_type": "stream",
     "text": [
      "0.7537491849597914\n"
     ]
    }
   ],
   "source": [
    "clusters = {}\n",
    "for i in range(10):\n",
    "    clusters[i] = []\n",
    "\n",
    "for i in range(len(X_train)):\n",
    "    clusters[cluster_labels[i]].append(Y_train[i])\n",
    "purity_count = 0\n",
    "for i in clusters:\n",
    "    max_label = get_max_occurences(list(clusters[i]))\n",
    "    label_count = 0\n",
    "    purity_count += list(clusters[i]).count(max_label)\n",
    "print(purity_count/len(X_train))    "
   ]
  },
  {
   "cell_type": "code",
   "execution_count": null,
   "metadata": {
    "collapsed": true
   },
   "outputs": [],
   "source": []
  }
 ],
 "metadata": {
  "kernelspec": {
   "display_name": "Python 3",
   "language": "python",
   "name": "python3"
  },
  "language_info": {
   "codemirror_mode": {
    "name": "ipython",
    "version": 3
   },
   "file_extension": ".py",
   "mimetype": "text/x-python",
   "name": "python",
   "nbconvert_exporter": "python",
   "pygments_lexer": "ipython3",
   "version": "3.6.3"
  }
 },
 "nbformat": 4,
 "nbformat_minor": 2
}
