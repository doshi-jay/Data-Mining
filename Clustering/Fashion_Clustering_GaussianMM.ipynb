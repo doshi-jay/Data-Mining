{
 "cells": [
  {
   "cell_type": "code",
   "execution_count": 3,
   "metadata": {},
   "outputs": [],
   "source": [
    "import numpy as np\n",
    "import matplotlib.pyplot as plt\n",
    "from matplotlib.colors import LogNorm\n",
    "from sklearn import mixture\n",
    "from tensorflow.examples.tutorials.mnist import input_data"
   ]
  },
  {
   "cell_type": "code",
   "execution_count": 4,
   "metadata": {},
   "outputs": [
    {
     "name": "stdout",
     "output_type": "stream",
     "text": [
      "Extracting data/fashion\\train-images-idx3-ubyte.gz\n",
      "Extracting data/fashion\\train-labels-idx1-ubyte.gz\n",
      "Extracting data/fashion\\t10k-images-idx3-ubyte.gz\n",
      "Extracting data/fashion\\t10k-labels-idx1-ubyte.gz\n"
     ]
    }
   ],
   "source": [
    "mnist = input_data.read_data_sets('data/fashion')\n",
    "\n",
    "train_images = np.asarray(mnist.train.images)\n",
    "train_labels = np.asarray(mnist.train.labels)\n",
    "test_images = np.asarray(mnist.test.images)\n",
    "test_labels = np.asarray(mnist.test.labels)"
   ]
  },
  {
   "cell_type": "code",
   "execution_count": 69,
   "metadata": {},
   "outputs": [
    {
     "name": "stdout",
     "output_type": "stream",
     "text": [
      "65000\n",
      "65000\n",
      "Done creating train data\n"
     ]
    }
   ],
   "source": [
    "X_train = list(train_images) + list(test_images)\n",
    "data_Y = list(train_labels) + list(test_labels)\n",
    "print(len(data_X))\n",
    "print(len(data_Y))\n",
    "training = []\n",
    "for i in range(len(train_images)):\n",
    "    training.append([data_Y[i], data_X[i]])\n",
    "print(\"Done creating train data\")"
   ]
  },
  {
   "cell_type": "code",
   "execution_count": 70,
   "metadata": {},
   "outputs": [],
   "source": [
    "from collections import defaultdict\n",
    "\n",
    "def get_max_occurences(L):\n",
    "    \n",
    "    d = {}\n",
    "    for i in set(L):\n",
    "        d[i] = 0\n",
    "    for i in L:\n",
    "        d[i] += 1\n",
    "    max_value = max(d.values())\n",
    "    max_key = [k for k, v in d.items() if v == max_value]\n",
    "    return max_key[0]"
   ]
  },
  {
   "cell_type": "code",
   "execution_count": 71,
   "metadata": {},
   "outputs": [
    {
     "name": "stdout",
     "output_type": "stream",
     "text": [
      "Creating Mixture object\n",
      "Done fitting data\n"
     ]
    }
   ],
   "source": [
    "n_samples = len(training)\n",
    "np.random.seed(0)\n",
    "clf = mixture.GaussianMixture(n_components=10, covariance_type='full')\n",
    "print(\"Creating Mixture object\")\n",
    "clf.fit(X_train)\n",
    "print(\"Done fitting data\")"
   ]
  },
  {
   "cell_type": "code",
   "execution_count": 72,
   "metadata": {},
   "outputs": [],
   "source": [
    "cluster_labels = clf.predict(X_train)"
   ]
  },
  {
   "cell_type": "code",
   "execution_count": 73,
   "metadata": {},
   "outputs": [
    {
     "name": "stdout",
     "output_type": "stream",
     "text": [
      "0.45403076923076924\n"
     ]
    }
   ],
   "source": [
    "clusters = {}\n",
    "for i in range(10):\n",
    "    clusters[i] = []\n",
    "\n",
    "for i in range(len(X_train)):\n",
    "    clusters[cluster_labels[i]].append(data_Y[i])\n",
    "\n",
    "purity_count = 0\n",
    "for i in clusters:\n",
    "    max_label = get_max_occurences(list(clusters[i]))\n",
    "    label_count = 0\n",
    "    purity_count += list(clusters[i]).count(max_label)\n",
    "print(purity_count/len(X_train))    "
   ]
  },
  {
   "cell_type": "code",
   "execution_count": null,
   "metadata": {
    "collapsed": true
   },
   "outputs": [],
   "source": []
  }
 ],
 "metadata": {
  "kernelspec": {
   "display_name": "Python 3",
   "language": "python",
   "name": "python3"
  },
  "language_info": {
   "codemirror_mode": {
    "name": "ipython",
    "version": 3
   },
   "file_extension": ".py",
   "mimetype": "text/x-python",
   "name": "python",
   "nbconvert_exporter": "python",
   "pygments_lexer": "ipython3",
   "version": "3.6.3"
  }
 },
 "nbformat": 4,
 "nbformat_minor": 2
}
