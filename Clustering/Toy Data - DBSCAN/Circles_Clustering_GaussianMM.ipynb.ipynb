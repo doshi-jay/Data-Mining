{
 "cells": [
  {
   "cell_type": "code",
   "execution_count": 18,
   "metadata": {
    "collapsed": true
   },
   "outputs": [],
   "source": [
    "import pandas as pd\n",
    "from scipy.spatial import distance\n",
    "import matplotlib.pyplot as plt"
   ]
  },
  {
   "cell_type": "code",
   "execution_count": 19,
   "metadata": {
    "collapsed": true
   },
   "outputs": [],
   "source": [
    "dataframe = pd.read_csv(\"circle.csv\")"
   ]
  },
  {
   "cell_type": "code",
   "execution_count": 20,
   "metadata": {},
   "outputs": [
    {
     "data": {
      "text/html": [
       "<div>\n",
       "<style>\n",
       "    .dataframe thead tr:only-child th {\n",
       "        text-align: right;\n",
       "    }\n",
       "\n",
       "    .dataframe thead th {\n",
       "        text-align: left;\n",
       "    }\n",
       "\n",
       "    .dataframe tbody tr th {\n",
       "        vertical-align: top;\n",
       "    }\n",
       "</style>\n",
       "<table border=\"1\" class=\"dataframe\">\n",
       "  <thead>\n",
       "    <tr style=\"text-align: right;\">\n",
       "      <th></th>\n",
       "      <th>Xcircle_X1</th>\n",
       "      <th>Xcircle_X2</th>\n",
       "    </tr>\n",
       "  </thead>\n",
       "  <tbody>\n",
       "    <tr>\n",
       "      <th>0</th>\n",
       "      <td>0.519781</td>\n",
       "      <td>-0.015981</td>\n",
       "    </tr>\n",
       "    <tr>\n",
       "      <th>1</th>\n",
       "      <td>-0.057719</td>\n",
       "      <td>-0.420279</td>\n",
       "    </tr>\n",
       "    <tr>\n",
       "      <th>2</th>\n",
       "      <td>-0.805155</td>\n",
       "      <td>-0.662227</td>\n",
       "    </tr>\n",
       "    <tr>\n",
       "      <th>3</th>\n",
       "      <td>0.316549</td>\n",
       "      <td>0.312730</td>\n",
       "    </tr>\n",
       "    <tr>\n",
       "      <th>4</th>\n",
       "      <td>-0.304804</td>\n",
       "      <td>0.407563</td>\n",
       "    </tr>\n",
       "  </tbody>\n",
       "</table>\n",
       "</div>"
      ],
      "text/plain": [
       "   Xcircle_X1  Xcircle_X2\n",
       "0    0.519781   -0.015981\n",
       "1   -0.057719   -0.420279\n",
       "2   -0.805155   -0.662227\n",
       "3    0.316549    0.312730\n",
       "4   -0.304804    0.407563"
      ]
     },
     "execution_count": 20,
     "metadata": {},
     "output_type": "execute_result"
    }
   ],
   "source": [
    "dataframe.head()"
   ]
  },
  {
   "cell_type": "code",
   "execution_count": 21,
   "metadata": {
    "collapsed": true
   },
   "outputs": [],
   "source": [
    "neighbors = [\"\" for i in range(dataframe.shape[0])]\n",
    "pt = [i for i in range(dataframe.shape[0])]\n",
    "dataframe['neighbors'] = neighbors\n",
    "dataframe['pt'] = pt"
   ]
  },
  {
   "cell_type": "code",
   "execution_count": 13,
   "metadata": {
    "collapsed": true
   },
   "outputs": [],
   "source": [
    "neighbors_dict = {}\n",
    "x = []\n",
    "y = []\n",
    "def create_neighbors(dataframe, eps):\n",
    "    x = list(dataframe['Xcircle_X1'])\n",
    "    y = list(dataframe['Xcircle_X2'])\n",
    "    for i in range(len(x)):\n",
    "        point_X = (x[i], y[i])\n",
    "        for j in range(len(y)):\n",
    "            point_Y = (x[j], y[j])\n",
    "            if(distance.euclidean(point_X,point_Y) <= eps):\n",
    "                if(i in neighbors_dict):\n",
    "                    neighbors_dict[i].append(j)\n",
    "                else:\n",
    "                    neighbors_dict[i] = [j]"
   ]
  },
  {
   "cell_type": "code",
   "execution_count": 14,
   "metadata": {
    "collapsed": true
   },
   "outputs": [],
   "source": [
    "create_neighbors(dataframe, 0.18)"
   ]
  },
  {
   "cell_type": "code",
   "execution_count": 15,
   "metadata": {
    "collapsed": true
   },
   "outputs": [],
   "source": [
    "for point in neighbors_dict.keys():\n",
    "    neighs = \",\".join(str(x) for x in neighbors_dict[point])\n",
    "    dataframe.loc[dataframe['pt'] == point, 'neighbors'] = neighs"
   ]
  },
  {
   "cell_type": "code",
   "execution_count": 17,
   "metadata": {},
   "outputs": [
    {
     "data": {
      "image/png": "[encoded data removed]",
      "text/plain": [
       "<matplotlib.figure.Figure at 0x24b2a34d400>"
      ]
     },
     "metadata": {},
     "output_type": "display_data"
    }
   ],
   "source": [
    "plt.scatter(x,y)\n",
    "plt.show()"
   ]
  },
  {
   "cell_type": "code",
   "execution_count": 104,
   "metadata": {
    "collapsed": true
   },
   "outputs": [],
   "source": [
    "visited = []\n",
    "clusters = {}\n",
    "noise = []\n",
    "def dbscan(dataframe, eps, minPoints):\n",
    "    cluster = 0\n",
    "    for index, row in dataframe.iterrows():\n",
    "        neighbors = neighbors_dict[row.pt]\n",
    "        if len(neighbors) < minPoints: \n",
    "            noise.append(index)\n",
    "        else:\n",
    "            clusters[cluster] = []\n",
    "            expandCluster(index, neighbors, cluster, eps, minPoints)\n",
    "            cluster += 1"
   ]
  },
  {
   "cell_type": "code",
   "execution_count": 105,
   "metadata": {
    "collapsed": true
   },
   "outputs": [],
   "source": [
    "def expandCluster(index, neighbors, cluster, eps, minPoints):\n",
    "    while(len(neighbors) != 0):\n",
    "        point = neighbors.pop(0)\n",
    "        point = int(point)\n",
    "        if point not in visited:\n",
    "            visited.append(point)\n",
    "            clusters[cluster].append(point)\n",
    "            potential_cluster_points = neighbors_dict[point]\n",
    "            neighbors.extend(potential_cluster_points)"
   ]
  },
  {
   "cell_type": "code",
   "execution_count": 106,
   "metadata": {
    "collapsed": true
   },
   "outputs": [],
   "source": [
    "dbscan(dataframe, 0.18, 5)"
   ]
  },
  {
   "cell_type": "code",
   "execution_count": 107,
   "metadata": {},
   "outputs": [
    {
     "data": {
      "image/png": "[encoded data removed]",
      "text/plain": [
       "<matplotlib.figure.Figure at 0x11bf46550>"
      ]
     },
     "metadata": {},
     "output_type": "display_data"
    }
   ],
   "source": [
    "for cluster in clusters:\n",
    "    temp_x = []\n",
    "    temp_y = []\n",
    "    for j in clusters[cluster]:\n",
    "        temp_x.append(x[j])\n",
    "        temp_y.append(y[j])\n",
    "    if len(clusters[cluster]) > 0: \n",
    "        plt.scatter(temp_x, temp_y)"
   ]
  }
 ],
 "metadata": {
  "kernelspec": {
   "display_name": "Python 3",
   "language": "python",
   "name": "python3"
  },
  "language_info": {
   "codemirror_mode": {
    "name": "ipython",
    "version": 3
   },
   "file_extension": ".py",
   "mimetype": "text/x-python",
   "name": "python",
   "nbconvert_exporter": "python",
   "pygments_lexer": "ipython3",
   "version": "3.6.3"
  }
 },
 "nbformat": 4,
 "nbformat_minor": 2
}
