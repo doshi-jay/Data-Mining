{
 "cells": [
  {
   "cell_type": "code",
   "execution_count": 1,
   "metadata": {
    "collapsed": true
   },
   "outputs": [],
   "source": [
    "import pandas as pd\n",
    "from scipy.spatial import distance\n",
    "import matplotlib.pyplot as plt"
   ]
  },
  {
   "cell_type": "code",
   "execution_count": 2,
   "metadata": {
    "collapsed": true
   },
   "outputs": [],
   "source": [
    "dataframe = pd.read_csv(\"blobs.csv\")"
   ]
  },
  {
   "cell_type": "code",
   "execution_count": 3,
   "metadata": {},
   "outputs": [
    {
     "data": {
      "text/html": [
       "<div>\n",
       "<style>\n",
       "    .dataframe thead tr:only-child th {\n",
       "        text-align: right;\n",
       "    }\n",
       "\n",
       "    .dataframe thead th {\n",
       "        text-align: left;\n",
       "    }\n",
       "\n",
       "    .dataframe tbody tr th {\n",
       "        vertical-align: top;\n",
       "    }\n",
       "</style>\n",
       "<table border=\"1\" class=\"dataframe\">\n",
       "  <thead>\n",
       "    <tr style=\"text-align: right;\">\n",
       "      <th></th>\n",
       "      <th>Xblobs_X1</th>\n",
       "      <th>Xblobs_X2</th>\n",
       "    </tr>\n",
       "  </thead>\n",
       "  <tbody>\n",
       "    <tr>\n",
       "      <th>0</th>\n",
       "      <td>1.684922</td>\n",
       "      <td>0.683154</td>\n",
       "    </tr>\n",
       "    <tr>\n",
       "      <th>1</th>\n",
       "      <td>-0.669550</td>\n",
       "      <td>-1.023103</td>\n",
       "    </tr>\n",
       "    <tr>\n",
       "      <th>2</th>\n",
       "      <td>-0.816166</td>\n",
       "      <td>-0.887977</td>\n",
       "    </tr>\n",
       "    <tr>\n",
       "      <th>3</th>\n",
       "      <td>1.188173</td>\n",
       "      <td>1.124579</td>\n",
       "    </tr>\n",
       "    <tr>\n",
       "      <th>4</th>\n",
       "      <td>1.179278</td>\n",
       "      <td>1.678473</td>\n",
       "    </tr>\n",
       "  </tbody>\n",
       "</table>\n",
       "</div>"
      ],
      "text/plain": [
       "   Xblobs_X1  Xblobs_X2\n",
       "0   1.684922   0.683154\n",
       "1  -0.669550  -1.023103\n",
       "2  -0.816166  -0.887977\n",
       "3   1.188173   1.124579\n",
       "4   1.179278   1.678473"
      ]
     },
     "execution_count": 3,
     "metadata": {},
     "output_type": "execute_result"
    }
   ],
   "source": [
    "dataframe.head()"
   ]
  },
  {
   "cell_type": "code",
   "execution_count": 4,
   "metadata": {
    "collapsed": true
   },
   "outputs": [],
   "source": [
    "neighbors = [\"\" for i in range(dataframe.shape[0])]\n",
    "pt = [i for i in range(dataframe.shape[0])]\n",
    "dataframe['neighbors'] = neighbors\n",
    "dataframe['pt'] = pt"
   ]
  },
  {
   "cell_type": "code",
   "execution_count": 5,
   "metadata": {
    "collapsed": true
   },
   "outputs": [],
   "source": [
    "neighbors_dict = {}\n",
    "def create_neighbors(dataframe, eps):\n",
    "    x = list(dataframe['Xblobs_X1'])\n",
    "    y = list(dataframe['Xblobs_X2'])\n",
    "    for i in range(len(x)):\n",
    "        point_X = (x[i], y[i])\n",
    "        for j in range(len(y)):\n",
    "            point_Y = (x[j], y[j])\n",
    "            if(distance.euclidean(point_X,point_Y) <= eps):\n",
    "                if(i in neighbors_dict):\n",
    "                    neighbors_dict[i].append(j)\n",
    "                else:\n",
    "                    neighbors_dict[i] = [j]"
   ]
  },
  {
   "cell_type": "code",
   "execution_count": 6,
   "metadata": {
    "collapsed": true
   },
   "outputs": [],
   "source": [
    "create_neighbors(dataframe, 0.18)"
   ]
  },
  {
   "cell_type": "code",
   "execution_count": 7,
   "metadata": {
    "collapsed": true
   },
   "outputs": [],
   "source": [
    "for point in neighbors_dict.keys():\n",
    "    neighs = \",\".join(str(x) for x in neighbors_dict[point])\n",
    "    dataframe.loc[dataframe['pt'] == point, 'neighbors'] = neighs"
   ]
  },
  {
   "cell_type": "code",
   "execution_count": 9,
   "metadata": {},
   "outputs": [
    {
     "data": {
      "image/png": "[encoded data removed]",
      "text/plain": [
       "<matplotlib.figure.Figure at 0x109ad3c6208>"
      ]
     },
     "metadata": {},
     "output_type": "display_data"
    }
   ],
   "source": [
    "x = list(dataframe['Xblobs_X1'])\n",
    "y = list(dataframe['Xblobs_X2'])\n",
    "plt.scatter(x,y)\n",
    "plt.show()"
   ]
  },
  {
   "cell_type": "code",
   "execution_count": 10,
   "metadata": {
    "collapsed": true
   },
   "outputs": [],
   "source": [
    "visited = []\n",
    "clusters = {}\n",
    "noise = []\n",
    "def dbscan(dataframe, eps, minPoints):\n",
    "    cluster = 0\n",
    "    for index, row in dataframe.iterrows():\n",
    "        neighbors = neighbors_dict[row.pt]\n",
    "        if len(neighbors) < minPoints: \n",
    "            noise.append(index)\n",
    "        else:\n",
    "            clusters[cluster] = []\n",
    "            expandCluster(index, neighbors, cluster, eps, minPoints)\n",
    "            cluster += 1"
   ]
  },
  {
   "cell_type": "code",
   "execution_count": 11,
   "metadata": {
    "collapsed": true
   },
   "outputs": [],
   "source": [
    "def expandCluster(index, neighbors, cluster, eps, minPoints):\n",
    "    while(len(neighbors) != 0):\n",
    "        point = neighbors.pop(0)\n",
    "        point = int(point)\n",
    "        if point not in visited:\n",
    "            visited.append(point)\n",
    "            clusters[cluster].append(point)\n",
    "            potential_cluster_points = neighbors_dict[point]\n",
    "            neighbors.extend(potential_cluster_points)"
   ]
  },
  {
   "cell_type": "code",
   "execution_count": 12,
   "metadata": {
    "collapsed": true
   },
   "outputs": [],
   "source": [
    "dbscan(dataframe, 0.18, 5)"
   ]
  },
  {
   "cell_type": "code",
   "execution_count": 13,
   "metadata": {},
   "outputs": [],
   "source": [
    "for cluster in clusters:\n",
    "    temp_x = []\n",
    "    temp_y = []\n",
    "    for j in clusters[cluster]:\n",
    "        temp_x.append(x[j])\n",
    "        temp_y.append(y[j])\n",
    "    if len(clusters[cluster]) > 0: \n",
    "        plt.scatter(temp_x, temp_y)"
   ]
  },
  {
   "cell_type": "code",
   "execution_count": 14,
   "metadata": {},
   "outputs": [
    {
     "data": {
      "image/png": "[encoded data removed]",
      "text/plain": [
       "<matplotlib.figure.Figure at 0x109ad848be0>"
      ]
     },
     "metadata": {},
     "output_type": "display_data"
    }
   ],
   "source": [
    "plt.show()"
   ]
  },
  {
   "cell_type": "code",
   "execution_count": null,
   "metadata": {
    "collapsed": true
   },
   "outputs": [],
   "source": []
  }
 ],
 "metadata": {
  "kernelspec": {
   "display_name": "Python 3",
   "language": "python",
   "name": "python3"
  },
  "language_info": {
   "codemirror_mode": {
    "name": "ipython",
    "version": 3
   },
   "file_extension": ".py",
   "mimetype": "text/x-python",
   "name": "python",
   "nbconvert_exporter": "python",
   "pygments_lexer": "ipython3",
   "version": "3.6.3"
  }
 },
 "nbformat": 4,
 "nbformat_minor": 2
}
