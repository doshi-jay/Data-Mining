{
 "cells": [
  {
   "cell_type": "code",
   "execution_count": 1,
   "metadata": {},
   "outputs": [
    {
     "name": "stdout",
     "output_type": "stream",
     "text": [
      "Reading Spambase dataset\n",
      "Done loading data\n"
     ]
    }
   ],
   "source": [
    "import numpy as np\n",
    "import matplotlib.pyplot as plt\n",
    "from itertools import product\n",
    "from sklearn.decomposition import RandomizedPCA\n",
    "from sklearn.decomposition import IncrementalPCA\n",
    "from sklearn.datasets import fetch_mldata\n",
    "from sklearn.utils import shuffle\n",
    "from sklearn import tree\n",
    "import pandas as pd\n",
    "from sklearn.metrics import accuracy_score\n",
    "    \n",
    "print(\"Reading Spambase dataset\")\n",
    "\n",
    "X = []\n",
    "Y = []\n",
    "X_test = []\n",
    "Y_test = []\n",
    "X_train = []\n",
    "Y_train = []\n",
    "def read_data():\n",
    "    data = pd.read_csv('spambase.data', header=None)\n",
    "    data.rename(columns={57:'is_spam'}, inplace=True)\n",
    "    with open(\"spambase.data\") as f:\n",
    "        for i,line in enumerate(f):\n",
    "            line= line.strip()\n",
    "            line = line.split(',')\n",
    "            line2 = [float(i) for i in line]\n",
    "            X.append(line2[:len(line2)-1])\n",
    "            Y.append(line2[len(line2)-1:][0]) \n",
    "\n",
    "print(\"Done loading data\")\n",
    "read_data()"
   ]
  },
  {
   "cell_type": "code",
   "execution_count": 2,
   "metadata": {
    "collapsed": true
   },
   "outputs": [],
   "source": [
    "X_test = X[int(0.9*len(X)):]\n",
    "Y_test = Y[int(0.9*len(Y)):]\n",
    "X_train = X[:int(0.9*len(X))]\n",
    "Y_train = Y[:int(0.9*len(Y))]"
   ]
  },
  {
   "cell_type": "code",
   "execution_count": 3,
   "metadata": {
    "collapsed": true
   },
   "outputs": [],
   "source": [
    "def get_score(labels):\n",
    "    return accuracy_score(Y_test, labels, normalize=True)"
   ]
  },
  {
   "cell_type": "code",
   "execution_count": 4,
   "metadata": {
    "collapsed": true
   },
   "outputs": [],
   "source": [
    "def get_accuracy(n):\n",
    "    print(\"Number of components: \", n)\n",
    "    clf = tree.DecisionTreeClassifier()\n",
    "    clf = clf.fit(X_train, Y_train)\n",
    "    predicted_labels = clf.predict(X_test)\n",
    "    return get_score(predicted_labels), clf"
   ]
  },
  {
   "cell_type": "code",
   "execution_count": 5,
   "metadata": {},
   "outputs": [
    {
     "name": "stdout",
     "output_type": "stream",
     "text": [
      "Number of components:  57\n",
      "0.700650759219\n"
     ]
    }
   ],
   "source": [
    "score, clf = get_accuracy(len(X[0]))\n",
    "print(score)"
   ]
  },
  {
   "cell_type": "code",
   "execution_count": 6,
   "metadata": {
    "collapsed": true
   },
   "outputs": [],
   "source": [
    "importances = clf.feature_importances_"
   ]
  },
  {
   "cell_type": "code",
   "execution_count": 9,
   "metadata": {},
   "outputs": [
    {
     "name": "stdout",
     "output_type": "stream",
     "text": [
      "Feature ranking:\n",
      "Feature 51 (0.376693)\n",
      "Feature 24 (0.106923)\n",
      "Feature 6 (0.102947)\n",
      "Feature 56 (0.075394)\n",
      "Feature 23 (0.040992)\n",
      "Feature 26 (0.039830)\n",
      "Feature 15 (0.038283)\n",
      "Feature 55 (0.033866)\n",
      "Feature 54 (0.017142)\n",
      "Feature 52 (0.016290)\n",
      "Feature 18 (0.013069)\n",
      "Feature 4 (0.009847)\n",
      "Feature 45 (0.009091)\n",
      "Feature 9 (0.007489)\n",
      "Feature 7 (0.007155)\n",
      "Feature 20 (0.006933)\n",
      "Feature 41 (0.006768)\n",
      "Feature 10 (0.006571)\n",
      "Feature 16 (0.006448)\n",
      "Feature 21 (0.006264)\n",
      "Feature 11 (0.005821)\n",
      "Feature 49 (0.005417)\n",
      "Feature 5 (0.005121)\n",
      "Feature 27 (0.004740)\n",
      "Feature 47 (0.004543)\n",
      "Feature 32 (0.004369)\n",
      "Feature 25 (0.004255)\n",
      "Feature 36 (0.003714)\n",
      "Feature 44 (0.003011)\n",
      "Feature 17 (0.002811)\n"
     ]
    }
   ],
   "source": [
    "indices = np.argsort(importances)[::-1]\n",
    "print(\"Feature ranking:\")\n",
    "\n",
    "for f in range(30):\n",
    "    print(\"Feature %d (%f)\" % ( indices[f], importances[indices[f]]))"
   ]
  },
  {
   "cell_type": "code",
   "execution_count": null,
   "metadata": {
    "collapsed": true
   },
   "outputs": [],
   "source": []
  }
 ],
 "metadata": {
  "kernelspec": {
   "display_name": "Python 3",
   "language": "python",
   "name": "python3"
  },
  "language_info": {
   "codemirror_mode": {
    "name": "ipython",
    "version": 3
   },
   "file_extension": ".py",
   "mimetype": "text/x-python",
   "name": "python",
   "nbconvert_exporter": "python",
   "pygments_lexer": "ipython3",
   "version": "3.6.3"
  }
 },
 "nbformat": 4,
 "nbformat_minor": 2
}
