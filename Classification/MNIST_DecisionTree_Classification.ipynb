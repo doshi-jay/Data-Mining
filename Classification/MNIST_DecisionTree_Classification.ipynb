{
 "cells": [
  {
   "cell_type": "code",
   "execution_count": 2,
   "metadata": {},
   "outputs": [
    {
     "name": "stdout",
     "output_type": "stream",
     "text": [
      "Reading MNIST dataset\n",
      "Extracting minst_data/train-images-idx3-ubyte.gz\n",
      "Extracting minst_data/train-labels-idx1-ubyte.gz\n",
      "Extracting minst_data/t10k-images-idx3-ubyte.gz\n",
      "Extracting minst_data/t10k-labels-idx1-ubyte.gz\n",
      "Done loading data\n"
     ]
    }
   ],
   "source": [
    "import numpy as np\n",
    "import matplotlib.pyplot as plt\n",
    "from itertools import product\n",
    "from sklearn.decomposition import RandomizedPCA\n",
    "from sklearn.datasets import fetch_mldata\n",
    "from sklearn.utils import shuffle\n",
    "from tensorflow.examples.tutorials.mnist import input_data\n",
    "from sklearn import tree\n",
    "\n",
    "print(\"Reading MNIST dataset\")\n",
    "mnist = input_data.read_data_sets('minst_data/')\n",
    "\n",
    "print(\"Done loading data\")"
   ]
  },
  {
   "cell_type": "code",
   "execution_count": 4,
   "metadata": {
    "collapsed": true
   },
   "outputs": [],
   "source": [
    "clf = tree.DecisionTreeClassifier()\n",
    "clf = clf.fit(mnist.train.images, mnist.train.labels)"
   ]
  },
  {
   "cell_type": "code",
   "execution_count": 5,
   "metadata": {
    "collapsed": true
   },
   "outputs": [],
   "source": [
    "predicted_labels = clf.predict(mnist.test.images)"
   ]
  },
  {
   "cell_type": "code",
   "execution_count": 6,
   "metadata": {},
   "outputs": [
    {
     "data": {
      "text/plain": [
       "array([7, 2, 1, ..., 4, 8, 6], dtype=uint8)"
      ]
     },
     "execution_count": 6,
     "metadata": {},
     "output_type": "execute_result"
    }
   ],
   "source": [
    "predicted_labels"
   ]
  },
  {
   "cell_type": "code",
   "execution_count": 7,
   "metadata": {},
   "outputs": [
    {
     "name": "stdout",
     "output_type": "stream",
     "text": [
      "Accuracy Score:  0.8761\n"
     ]
    }
   ],
   "source": [
    "from sklearn.metrics import accuracy_score\n",
    "score = accuracy_score(mnist.test.labels, predicted_labels, normalize=True)\n",
    "print(\"Accuracy Score: \", score)"
   ]
  },
  {
   "cell_type": "code",
   "execution_count": 8,
   "metadata": {
    "collapsed": true
   },
   "outputs": [],
   "source": [
    "importances = clf.feature_importances_"
   ]
  },
  {
   "cell_type": "code",
   "execution_count": 13,
   "metadata": {},
   "outputs": [
    {
     "name": "stdout",
     "output_type": "stream",
     "text": [
      "Feature ranking:\n",
      "Feature 489 (0.053589)\n",
      "Feature 435 (0.048789)\n",
      "Feature 350 (0.044644)\n",
      "Feature 568 (0.044020)\n",
      "Feature 430 (0.038396)\n",
      "Feature 211 (0.031766)\n",
      "Feature 346 (0.026802)\n",
      "Feature 235 (0.024429)\n",
      "Feature 405 (0.021884)\n",
      "Feature 98 (0.019243)\n",
      "Feature 156 (0.018013)\n",
      "Feature 486 (0.016517)\n",
      "Feature 485 (0.016109)\n",
      "Feature 290 (0.015394)\n",
      "Feature 354 (0.013969)\n",
      "Feature 154 (0.013517)\n",
      "Feature 655 (0.013136)\n",
      "Feature 522 (0.012107)\n",
      "Feature 656 (0.010716)\n",
      "Feature 381 (0.010157)\n",
      "Feature 271 (0.009970)\n",
      "Feature 101 (0.009417)\n",
      "Feature 348 (0.009154)\n",
      "Feature 155 (0.008836)\n",
      "Feature 297 (0.008600)\n",
      "Feature 267 (0.008404)\n",
      "Feature 300 (0.007425)\n",
      "Feature 296 (0.007299)\n",
      "Feature 516 (0.007005)\n",
      "Feature 95 (0.006953)\n"
     ]
    }
   ],
   "source": [
    "indices = np.argsort(importances)[::-1]\n",
    "print(\"Feature ranking:\")\n",
    "\n",
    "for f in range(30):\n",
    "    print(\"Feature %d (%f)\" % ( indices[f], importances[indices[f]]))"
   ]
  },
  {
   "cell_type": "code",
   "execution_count": null,
   "metadata": {
    "collapsed": true
   },
   "outputs": [],
   "source": []
  }
 ],
 "metadata": {
  "kernelspec": {
   "display_name": "Python 3",
   "language": "python",
   "name": "python3"
  },
  "language_info": {
   "codemirror_mode": {
    "name": "ipython",
    "version": 3
   },
   "file_extension": ".py",
   "mimetype": "text/x-python",
   "name": "python",
   "nbconvert_exporter": "python",
   "pygments_lexer": "ipython3",
   "version": "3.6.3"
  }
 },
 "nbformat": 4,
 "nbformat_minor": 2
}
