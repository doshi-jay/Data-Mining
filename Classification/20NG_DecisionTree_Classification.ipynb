{
 "cells": [
  {
   "cell_type": "code",
   "execution_count": 1,
   "metadata": {},
   "outputs": [
    {
     "name": "stdout",
     "output_type": "stream",
     "text": [
      "Done loading train data\n",
      "Done loading test data\n"
     ]
    }
   ],
   "source": [
    "from sklearn.datasets import fetch_20newsgroups\n",
    "from sklearn.feature_extraction.text import TfidfVectorizer\n",
    "from sklearn.naive_bayes import MultinomialNB\n",
    "from sklearn import metrics\n",
    "from sklearn.metrics.pairwise import euclidean_distances\n",
    "from sklearn.neighbors import NearestNeighbors\n",
    "from scipy.spatial import distance\n",
    "import scipy\n",
    "from scipy.sparse import csr_matrix\n",
    "import numpy as np\n",
    "from sklearn import tree\n",
    "from sklearn.metrics import pairwise_distances\n",
    "from sklearn.metrics import accuracy_score\n",
    "\n",
    "train_data = fetch_20newsgroups(subset='train')\n",
    "train_X = train_data['data']\n",
    "train_Y = train_data['target']\n",
    "print (\"Done loading train data\")\n",
    "\n",
    "test_data = fetch_20newsgroups(subset='test')\n",
    "test_X = test_data['data']\n",
    "test_Y = test_data['target']\n",
    "print (\"Done loading test data\")\n",
    "\n",
    "data_X = train_X + test_X"
   ]
  },
  {
   "cell_type": "code",
   "execution_count": 2,
   "metadata": {
    "collapsed": true
   },
   "outputs": [],
   "source": [
    "vectorizer = TfidfVectorizer(stop_words='english')\n",
    "vectors = vectorizer.fit_transform(data_X)"
   ]
  },
  {
   "cell_type": "code",
   "execution_count": 25,
   "metadata": {},
   "outputs": [
    {
     "name": "stdout",
     "output_type": "stream",
     "text": [
      "(7532, 173451)\n",
      "(11314, 173451)\n"
     ]
    }
   ],
   "source": [
    "X_test = vectors[len(train_X):]\n",
    "X_train = vectors[:len(train_X)]\n",
    "print(X_test.shape)\n",
    "print(X_train.shape)"
   ]
  },
  {
   "cell_type": "code",
   "execution_count": 20,
   "metadata": {
    "collapsed": true
   },
   "outputs": [],
   "source": [
    "def get_score(labels):\n",
    "    return accuracy_score(test_Y, labels, normalize=True)"
   ]
  },
  {
   "cell_type": "code",
   "execution_count": 23,
   "metadata": {
    "collapsed": true
   },
   "outputs": [],
   "source": [
    "def get_accuracy():\n",
    "    global clf\n",
    "    clf = clf.fit(X_train, train_Y)\n",
    "    predicted_labels = clf.predict(X_test)\n",
    "    return get_score(predicted_labels)"
   ]
  },
  {
   "cell_type": "code",
   "execution_count": 24,
   "metadata": {},
   "outputs": [
    {
     "name": "stdout",
     "output_type": "stream",
     "text": [
      "0.565454062666\n"
     ]
    }
   ],
   "source": [
    "clf = tree.DecisionTreeClassifier()\n",
    "print(get_accuracy())"
   ]
  },
  {
   "cell_type": "code",
   "execution_count": 26,
   "metadata": {
    "collapsed": true
   },
   "outputs": [],
   "source": [
    "importances = clf.feature_importances_"
   ]
  },
  {
   "cell_type": "code",
   "execution_count": 27,
   "metadata": {},
   "outputs": [
    {
     "name": "stdout",
     "output_type": "stream",
     "text": [
      "Feature ranking:\n",
      "Feature 55427 (0.026670)\n",
      "Feature 65617 (0.024190)\n",
      "Feature 139367 (0.024186)\n",
      "Feature 165511 (0.022622)\n",
      "Feature 85645 (0.020420)\n",
      "Feature 80282 (0.018701)\n",
      "Feature 145386 (0.018136)\n",
      "Feature 52042 (0.018093)\n",
      "Feature 92197 (0.017945)\n",
      "Feature 81940 (0.016018)\n",
      "Feature 44252 (0.014980)\n",
      "Feature 46012 (0.011551)\n",
      "Feature 155762 (0.011303)\n",
      "Feature 105480 (0.011122)\n",
      "Feature 80977 (0.009896)\n",
      "Feature 165502 (0.008597)\n",
      "Feature 78780 (0.008532)\n",
      "Feature 41835 (0.008046)\n",
      "Feature 116690 (0.007919)\n",
      "Feature 138248 (0.007843)\n",
      "Feature 69845 (0.006929)\n",
      "Feature 112300 (0.006907)\n",
      "Feature 68433 (0.006138)\n",
      "Feature 120891 (0.006080)\n",
      "Feature 57840 (0.005997)\n",
      "Feature 151442 (0.005892)\n",
      "Feature 56276 (0.005818)\n",
      "Feature 40231 (0.005770)\n",
      "Feature 41164 (0.005727)\n",
      "Feature 163686 (0.005659)\n"
     ]
    }
   ],
   "source": [
    "indices = np.argsort(importances)[::-1]\n",
    "print(\"Feature ranking:\")\n",
    "\n",
    "for f in range(30):\n",
    "    print(\"Feature %d (%f)\" % ( indices[f], importances[indices[f]]))"
   ]
  },
  {
   "cell_type": "code",
   "execution_count": null,
   "metadata": {
    "collapsed": true
   },
   "outputs": [],
   "source": []
  }
 ],
 "metadata": {
  "kernelspec": {
   "display_name": "Python 3",
   "language": "python",
   "name": "python3"
  },
  "language_info": {
   "codemirror_mode": {
    "name": "ipython",
    "version": 3
   },
   "file_extension": ".py",
   "mimetype": "text/x-python",
   "name": "python",
   "nbconvert_exporter": "python",
   "pygments_lexer": "ipython3",
   "version": "3.6.3"
  }
 },
 "nbformat": 4,
 "nbformat_minor": 2
}
