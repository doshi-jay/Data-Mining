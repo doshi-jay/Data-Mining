{
 "cells": [
  {
   "cell_type": "code",
   "execution_count": 3,
   "metadata": {},
   "outputs": [
    {
     "name": "stdout",
     "output_type": "stream",
     "text": [
      "Reading Spambase dataset\n",
      "Done loading data\n"
     ]
    }
   ],
   "source": [
    "import numpy as np\n",
    "import matplotlib.pyplot as plt\n",
    "from itertools import product\n",
    "from sklearn.decomposition import RandomizedPCA\n",
    "from sklearn.decomposition import IncrementalPCA\n",
    "from sklearn.datasets import fetch_mldata\n",
    "from sklearn.utils import shuffle\n",
    "from sklearn import tree\n",
    "import pandas as pd\n",
    "from sklearn.metrics import accuracy_score\n",
    "from sklearn import linear_model\n",
    "    \n",
    "print(\"Reading Spambase dataset\")\n",
    "\n",
    "X = []\n",
    "Y = []\n",
    "X_test = []\n",
    "Y_test = []\n",
    "X_train = []\n",
    "Y_train = []\n",
    "def read_data():\n",
    "    data = pd.read_csv('spambase.data', header=None)\n",
    "    data.rename(columns={57:'is_spam'}, inplace=True)\n",
    "    with open(\"spambase.data\") as f:\n",
    "        for i,line in enumerate(f):\n",
    "            line= line.strip()\n",
    "            line = line.split(',')\n",
    "            line2 = [float(i) for i in line]\n",
    "            X.append(line2[:len(line2)-1])\n",
    "            Y.append(line2[len(line2)-1:][0]) \n",
    "\n",
    "print(\"Done loading data\")\n",
    "read_data()"
   ]
  },
  {
   "cell_type": "code",
   "execution_count": 4,
   "metadata": {
    "collapsed": true
   },
   "outputs": [],
   "source": [
    "X_test = X[int(0.9*len(X)):]\n",
    "Y_test = Y[int(0.9*len(Y)):]\n",
    "X_train = X[:int(0.9*len(X))]\n",
    "Y_train = Y[:int(0.9*len(Y))]"
   ]
  },
  {
   "cell_type": "code",
   "execution_count": 5,
   "metadata": {
    "collapsed": true
   },
   "outputs": [],
   "source": [
    "def get_score(labels):\n",
    "    return accuracy_score(Y_test, labels, normalize=True)"
   ]
  },
  {
   "cell_type": "code",
   "execution_count": 6,
   "metadata": {},
   "outputs": [],
   "source": [
    "logreg = linear_model.LogisticRegression(C=1e5)\n",
    "def get_accuracy(n):\n",
    "    global logreg\n",
    "    print(\"Number of components: \", n)\n",
    "    logreg = logreg.fit(X_train, Y_train)\n",
    "    predicted_labels = logreg.predict(X_test)\n",
    "    return get_score(predicted_labels)"
   ]
  },
  {
   "cell_type": "code",
   "execution_count": 7,
   "metadata": {},
   "outputs": [
    {
     "name": "stdout",
     "output_type": "stream",
     "text": [
      "Number of components:  57\n",
      "0.802603036876\n"
     ]
    }
   ],
   "source": [
    "print(get_accuracy(len(X[0])))"
   ]
  },
  {
   "cell_type": "code",
   "execution_count": 8,
   "metadata": {},
   "outputs": [
    {
     "name": "stdout",
     "output_type": "stream",
     "text": [
      "--------------------------------------------------------------\n",
      "Class =  1\n",
      "Feature 52 (5.292602)\n",
      "Feature 23 (2.545535)\n",
      "Feature 53 (2.364919)\n",
      "Feature 21 (1.945187)\n",
      "Feature 22 (1.867995)\n",
      "Feature 6 (1.843863)\n",
      "Feature 51 (1.799300)\n",
      "Feature 3 (0.969846)\n",
      "Feature 15 (0.938272)\n",
      "Feature 35 (0.889976)\n",
      "Feature 5 (0.791960)\n",
      "Feature 19 (0.749753)\n",
      "Feature 16 (0.672102)\n",
      "Feature 14 (0.624293)\n",
      "Feature 7 (0.521662)\n",
      "Feature 4 (0.474336)\n",
      "Feature 27 (0.360477)\n",
      "Feature 17 (0.228601)\n",
      "Feature 20 (0.195419)\n",
      "Feature 8 (0.194375)\n",
      "Feature 18 (0.156178)\n",
      "Feature 9 (0.114244)\n",
      "Feature 2 (0.113858)\n",
      "Feature 13 (0.112544)\n",
      "Feature 48 (0.097854)\n",
      "Feature 12 (0.067425)\n",
      "Feature 31 (0.065963)\n",
      "Feature 55 (0.010964)\n",
      "Feature 56 (0.000516)\n",
      "Feature 54 (-0.019032)\n"
     ]
    }
   ],
   "source": [
    "k = 1\n",
    "for i in logreg.coef_:\n",
    "    indices = np.argsort(i)[::-1]\n",
    "    print(\"--------------------------------------------------------------\")\n",
    "    print(\"Class = \", k)\n",
    "    k += 1\n",
    "    for f in range(30):\n",
    "        print(\"Feature %d (%f)\" % ( indices[f], i[indices[f]]))"
   ]
  },
  {
   "cell_type": "code",
   "execution_count": null,
   "metadata": {
    "collapsed": true
   },
   "outputs": [],
   "source": []
  }
 ],
 "metadata": {
  "kernelspec": {
   "display_name": "Python 3",
   "language": "python",
   "name": "python3"
  },
  "language_info": {
   "codemirror_mode": {
    "name": "ipython",
    "version": 3
   },
   "file_extension": ".py",
   "mimetype": "text/x-python",
   "name": "python",
   "nbconvert_exporter": "python",
   "pygments_lexer": "ipython3",
   "version": "3.6.3"
  }
 },
 "nbformat": 4,
 "nbformat_minor": 2
}
